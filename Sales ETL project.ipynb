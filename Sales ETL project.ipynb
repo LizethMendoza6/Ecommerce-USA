{
 "cells": [
  {
   "cell_type": "code",
   "execution_count": 35,
   "id": "c60c5a08",
   "metadata": {},
   "outputs": [],
   "source": [
    "import pandas as pd\n",
    "import requests\n",
    "import os"
   ]
  },
  {
   "cell_type": "markdown",
   "id": "856d7aa0",
   "metadata": {},
   "source": [
    "# SALES ETL PROJECT"
   ]
  },
  {
   "cell_type": "markdown",
   "id": "886b8156",
   "metadata": {},
   "source": [
    "# EXTRACTION"
   ]
  },
  {
   "cell_type": "code",
   "execution_count": 36,
   "id": "8cc65066",
   "metadata": {},
   "outputs": [],
   "source": [
    "current_directory = os.getcwd()\n",
    "file = os.path.join(current_directory, 'sales_products.csv')"
   ]
  },
  {
   "cell_type": "code",
   "execution_count": 37,
   "id": "f609c251",
   "metadata": {},
   "outputs": [],
   "source": [
    "current_directory = os.getcwd()\n",
    "urlSales_DataSource = 'https://62892c727af826e39e69681c.mockapi.io/api/SalesETL/Products'\n",
    "csvSales__DataSource = pd.read_csv(file)"
   ]
  },
  {
   "cell_type": "code",
   "execution_count": 38,
   "id": "17426e61",
   "metadata": {},
   "outputs": [
    {
     "name": "stdout",
     "output_type": "stream",
     "text": [
      "Ok\n"
     ]
    }
   ],
   "source": [
    "response = requests.get(urlSales_DataSource)\n",
    "if(response.status_code==200):\n",
    "    print('Ok')\n",
    "else: \n",
    "    print('Error')"
   ]
  },
  {
   "cell_type": "markdown",
   "id": "ec473bb1",
   "metadata": {},
   "source": [
    "### Creating dataframes"
   ]
  },
  {
   "cell_type": "code",
   "execution_count": 39,
   "id": "199fb12e",
   "metadata": {},
   "outputs": [],
   "source": [
    "url_dataframe = pd.DataFrame(response.json())\n",
    "csv_dataframe = csvSales__DataSource"
   ]
  },
  {
   "cell_type": "code",
   "execution_count": 40,
   "id": "c8713277",
   "metadata": {},
   "outputs": [
    {
     "data": {
      "text/html": [
       "<div>\n",
       "<style scoped>\n",
       "    .dataframe tbody tr th:only-of-type {\n",
       "        vertical-align: middle;\n",
       "    }\n",
       "\n",
       "    .dataframe tbody tr th {\n",
       "        vertical-align: top;\n",
       "    }\n",
       "\n",
       "    .dataframe thead th {\n",
       "        text-align: right;\n",
       "    }\n",
       "</style>\n",
       "<table border=\"1\" class=\"dataframe\">\n",
       "  <thead>\n",
       "    <tr style=\"text-align: right;\">\n",
       "      <th></th>\n",
       "      <th>name</th>\n",
       "      <th>price</th>\n",
       "      <th>description</th>\n",
       "      <th>date</th>\n",
       "      <th>id</th>\n",
       "      <th>brand</th>\n",
       "      <th>nombre</th>\n",
       "      <th>NAME</th>\n",
       "    </tr>\n",
       "  </thead>\n",
       "  <tbody>\n",
       "    <tr>\n",
       "      <th>0</th>\n",
       "      <td>Handcrafted Bronze Car</td>\n",
       "      <td>837.00</td>\n",
       "      <td>New range of formal shirts are designed keepin...</td>\n",
       "      <td>2022-05-22T16:33:56.666Z</td>\n",
       "      <td>1</td>\n",
       "      <td>NaN</td>\n",
       "      <td>NaN</td>\n",
       "      <td>NaN</td>\n",
       "    </tr>\n",
       "    <tr>\n",
       "      <th>1</th>\n",
       "      <td>Recycled Fresh Ball</td>\n",
       "      <td>906.00</td>\n",
       "      <td>The Football Is Good For Training And Recreati...</td>\n",
       "      <td>2022-05-21T22:35:17.730Z</td>\n",
       "      <td>2</td>\n",
       "      <td>NaN</td>\n",
       "      <td>NaN</td>\n",
       "      <td>NaN</td>\n",
       "    </tr>\n",
       "    <tr>\n",
       "      <th>2</th>\n",
       "      <td>Recycled Rubber Bike</td>\n",
       "      <td>547.00</td>\n",
       "      <td>The automobile layout consists of a front-engi...</td>\n",
       "      <td>2022-05-22T06:55:55.364Z</td>\n",
       "      <td>3</td>\n",
       "      <td>NaN</td>\n",
       "      <td>NaN</td>\n",
       "      <td>NaN</td>\n",
       "    </tr>\n",
       "    <tr>\n",
       "      <th>3</th>\n",
       "      <td>Rustic Wooden Computer</td>\n",
       "      <td>129.00</td>\n",
       "      <td>The Football Is Good For Training And Recreati...</td>\n",
       "      <td>2022-05-22T01:18:21.524Z</td>\n",
       "      <td>4</td>\n",
       "      <td>NaN</td>\n",
       "      <td>NaN</td>\n",
       "      <td>NaN</td>\n",
       "    </tr>\n",
       "    <tr>\n",
       "      <th>4</th>\n",
       "      <td>Sleek Wooden Chicken</td>\n",
       "      <td>58.00</td>\n",
       "      <td>Carbonite web goalkeeper gloves are ergonomica...</td>\n",
       "      <td>2022-05-22T18:38:39.850Z</td>\n",
       "      <td>5</td>\n",
       "      <td>NaN</td>\n",
       "      <td>NaN</td>\n",
       "      <td>NaN</td>\n",
       "    </tr>\n",
       "  </tbody>\n",
       "</table>\n",
       "</div>"
      ],
      "text/plain": [
       "                     name   price  \\\n",
       "0  Handcrafted Bronze Car  837.00   \n",
       "1     Recycled Fresh Ball  906.00   \n",
       "2    Recycled Rubber Bike  547.00   \n",
       "3  Rustic Wooden Computer  129.00   \n",
       "4    Sleek Wooden Chicken   58.00   \n",
       "\n",
       "                                         description  \\\n",
       "0  New range of formal shirts are designed keepin...   \n",
       "1  The Football Is Good For Training And Recreati...   \n",
       "2  The automobile layout consists of a front-engi...   \n",
       "3  The Football Is Good For Training And Recreati...   \n",
       "4  Carbonite web goalkeeper gloves are ergonomica...   \n",
       "\n",
       "                       date id brand nombre NAME  \n",
       "0  2022-05-22T16:33:56.666Z  1   NaN    NaN  NaN  \n",
       "1  2022-05-21T22:35:17.730Z  2   NaN    NaN  NaN  \n",
       "2  2022-05-22T06:55:55.364Z  3   NaN    NaN  NaN  \n",
       "3  2022-05-22T01:18:21.524Z  4   NaN    NaN  NaN  \n",
       "4  2022-05-22T18:38:39.850Z  5   NaN    NaN  NaN  "
      ]
     },
     "execution_count": 40,
     "metadata": {},
     "output_type": "execute_result"
    }
   ],
   "source": [
    "url_dataframe.head()"
   ]
  },
  {
   "cell_type": "code",
   "execution_count": 41,
   "id": "bb793135",
   "metadata": {},
   "outputs": [
    {
     "data": {
      "text/html": [
       "<div>\n",
       "<style scoped>\n",
       "    .dataframe tbody tr th:only-of-type {\n",
       "        vertical-align: middle;\n",
       "    }\n",
       "\n",
       "    .dataframe tbody tr th {\n",
       "        vertical-align: top;\n",
       "    }\n",
       "\n",
       "    .dataframe thead th {\n",
       "        text-align: right;\n",
       "    }\n",
       "</style>\n",
       "<table border=\"1\" class=\"dataframe\">\n",
       "  <thead>\n",
       "    <tr style=\"text-align: right;\">\n",
       "      <th></th>\n",
       "      <th>name</th>\n",
       "      <th>price</th>\n",
       "      <th>description</th>\n",
       "      <th>date</th>\n",
       "      <th>id</th>\n",
       "    </tr>\n",
       "  </thead>\n",
       "  <tbody>\n",
       "    <tr>\n",
       "      <th>0</th>\n",
       "      <td>Bacon</td>\n",
       "      <td>166.0</td>\n",
       "      <td>The Nagasaki Lander is the trademarked name of...</td>\n",
       "      <td>2021-10-26T19:00:24.925Z</td>\n",
       "      <td>1</td>\n",
       "    </tr>\n",
       "    <tr>\n",
       "      <th>1</th>\n",
       "      <td>Bike</td>\n",
       "      <td>19.0</td>\n",
       "      <td>Ergonomic executive chair upholstered in bonde...</td>\n",
       "      <td>2021-10-03T18:02:12.519Z</td>\n",
       "      <td>2</td>\n",
       "    </tr>\n",
       "    <tr>\n",
       "      <th>2</th>\n",
       "      <td>Towels</td>\n",
       "      <td>216.0</td>\n",
       "      <td>The slim &amp; simple Maple Gaming Keyboard from D...</td>\n",
       "      <td>2022-03-02T21:42:06.848Z</td>\n",
       "      <td>3</td>\n",
       "    </tr>\n",
       "    <tr>\n",
       "      <th>3</th>\n",
       "      <td>Hat</td>\n",
       "      <td>464.0</td>\n",
       "      <td>The Nagasaki Lander is the trademarked name of...</td>\n",
       "      <td>2022-05-20T11:46:17.171Z</td>\n",
       "      <td>4</td>\n",
       "    </tr>\n",
       "    <tr>\n",
       "      <th>4</th>\n",
       "      <td>Keyboard</td>\n",
       "      <td>819.0</td>\n",
       "      <td>New ABC 13 9370, 13.3, 5th Gen CoreA5-8250U, 8...</td>\n",
       "      <td>2021-09-02T04:01:05.365Z</td>\n",
       "      <td>5</td>\n",
       "    </tr>\n",
       "  </tbody>\n",
       "</table>\n",
       "</div>"
      ],
      "text/plain": [
       "       name  price                                        description  \\\n",
       "0     Bacon  166.0  The Nagasaki Lander is the trademarked name of...   \n",
       "1      Bike   19.0  Ergonomic executive chair upholstered in bonde...   \n",
       "2    Towels  216.0  The slim & simple Maple Gaming Keyboard from D...   \n",
       "3       Hat  464.0  The Nagasaki Lander is the trademarked name of...   \n",
       "4  Keyboard  819.0  New ABC 13 9370, 13.3, 5th Gen CoreA5-8250U, 8...   \n",
       "\n",
       "                       date  id  \n",
       "0  2021-10-26T19:00:24.925Z   1  \n",
       "1  2021-10-03T18:02:12.519Z   2  \n",
       "2  2022-03-02T21:42:06.848Z   3  \n",
       "3  2022-05-20T11:46:17.171Z   4  \n",
       "4  2021-09-02T04:01:05.365Z   5  "
      ]
     },
     "execution_count": 41,
     "metadata": {},
     "output_type": "execute_result"
    }
   ],
   "source": [
    "csv_dataframe.head()"
   ]
  },
  {
   "cell_type": "markdown",
   "id": "cf44b7bd",
   "metadata": {},
   "source": [
    "### Ordering columns"
   ]
  },
  {
   "cell_type": "code",
   "execution_count": 42,
   "id": "f4523ea8",
   "metadata": {},
   "outputs": [],
   "source": [
    "default_column_order = ['id', 'name', 'nombre', 'NAME', 'description', 'price', 'date', 'brand']\n",
    "url_dataframe = url_dataframe.reindex(columns= default_column_order)"
   ]
  },
  {
   "cell_type": "code",
   "execution_count": 43,
   "id": "3a0b509e",
   "metadata": {},
   "outputs": [],
   "source": [
    "default_column_order = ['id', 'name', 'description', 'price', 'date']\n",
    "csv_dataframe = csv_dataframe.reindex(columns= default_column_order)"
   ]
  },
  {
   "cell_type": "markdown",
   "id": "678c6183",
   "metadata": {},
   "source": [
    "### Concatenating Dataframes"
   ]
  },
  {
   "cell_type": "code",
   "execution_count": 44,
   "id": "64091f3c",
   "metadata": {
    "scrolled": false
   },
   "outputs": [
    {
     "name": "stdout",
     "output_type": "stream",
     "text": [
      "url_dataframe rows & columns:(62, 8)\n",
      "csv_dataframe rows & columns:(10, 5)\n",
      "Sales_dataframe rows & columns:(72, 8)\n"
     ]
    },
    {
     "data": {
      "text/html": [
       "<div>\n",
       "<style scoped>\n",
       "    .dataframe tbody tr th:only-of-type {\n",
       "        vertical-align: middle;\n",
       "    }\n",
       "\n",
       "    .dataframe tbody tr th {\n",
       "        vertical-align: top;\n",
       "    }\n",
       "\n",
       "    .dataframe thead th {\n",
       "        text-align: right;\n",
       "    }\n",
       "</style>\n",
       "<table border=\"1\" class=\"dataframe\">\n",
       "  <thead>\n",
       "    <tr style=\"text-align: right;\">\n",
       "      <th></th>\n",
       "      <th>id</th>\n",
       "      <th>name</th>\n",
       "      <th>nombre</th>\n",
       "      <th>NAME</th>\n",
       "      <th>description</th>\n",
       "      <th>price</th>\n",
       "      <th>date</th>\n",
       "      <th>brand</th>\n",
       "    </tr>\n",
       "  </thead>\n",
       "  <tbody>\n",
       "    <tr>\n",
       "      <th>71</th>\n",
       "      <td>10</td>\n",
       "      <td>Bike</td>\n",
       "      <td>NaN</td>\n",
       "      <td>NaN</td>\n",
       "      <td>The Football Is Good For Training And Recreati...</td>\n",
       "      <td>504.0</td>\n",
       "      <td>2021-11-17T05:18:05.217Z</td>\n",
       "      <td>NaN</td>\n",
       "    </tr>\n",
       "  </tbody>\n",
       "</table>\n",
       "</div>"
      ],
      "text/plain": [
       "    id  name nombre NAME                                        description  \\\n",
       "71  10  Bike    NaN  NaN  The Football Is Good For Training And Recreati...   \n",
       "\n",
       "    price                      date brand  \n",
       "71  504.0  2021-11-17T05:18:05.217Z   NaN  "
      ]
     },
     "execution_count": 44,
     "metadata": {},
     "output_type": "execute_result"
    }
   ],
   "source": [
    "Sales_dataframe = pd.concat([url_dataframe, csv_dataframe],ignore_index=True)\n",
    "print('url_dataframe rows & columns:' + str(url_dataframe.shape))\n",
    "print('csv_dataframe rows & columns:' + str(csv_dataframe.shape))\n",
    "print('Sales_dataframe rows & columns:' + str(Sales_dataframe.shape))\n",
    "Sales_dataframe.tail(1)"
   ]
  },
  {
   "cell_type": "markdown",
   "id": "f91387d5",
   "metadata": {},
   "source": [
    "#  TRANSFORM"
   ]
  },
  {
   "cell_type": "markdown",
   "id": "4adea42e",
   "metadata": {},
   "source": [
    "### Removing Unnecessary Columns"
   ]
  },
  {
   "cell_type": "code",
   "execution_count": 45,
   "id": "b8acd16d",
   "metadata": {
    "scrolled": true
   },
   "outputs": [
    {
     "data": {
      "text/plain": [
       "id              0\n",
       "name            0\n",
       "nombre         71\n",
       "NAME           71\n",
       "description     0\n",
       "price           0\n",
       "date            0\n",
       "brand          65\n",
       "dtype: int64"
      ]
     },
     "execution_count": 45,
     "metadata": {},
     "output_type": "execute_result"
    }
   ],
   "source": [
    "Sales_dataframe.isnull().sum()"
   ]
  },
  {
   "cell_type": "code",
   "execution_count": 46,
   "id": "71361055",
   "metadata": {},
   "outputs": [
    {
     "data": {
      "text/plain": [
       "Int64Index([60], dtype='int64')"
      ]
     },
     "execution_count": 46,
     "metadata": {},
     "output_type": "execute_result"
    }
   ],
   "source": [
    "#Search for not nulls indexes\n",
    "Sales_dataframe.index[Sales_dataframe['nombre'].notnull()]"
   ]
  },
  {
   "cell_type": "code",
   "execution_count": 47,
   "id": "ac58cfbb",
   "metadata": {},
   "outputs": [
    {
     "data": {
      "text/plain": [
       "Int64Index([61], dtype='int64')"
      ]
     },
     "execution_count": 47,
     "metadata": {},
     "output_type": "execute_result"
    }
   ],
   "source": [
    "Sales_dataframe.index[Sales_dataframe['NAME'].notnull()]"
   ]
  },
  {
   "cell_type": "code",
   "execution_count": 48,
   "id": "54862348",
   "metadata": {},
   "outputs": [
    {
     "data": {
      "text/html": [
       "<div>\n",
       "<style scoped>\n",
       "    .dataframe tbody tr th:only-of-type {\n",
       "        vertical-align: middle;\n",
       "    }\n",
       "\n",
       "    .dataframe tbody tr th {\n",
       "        vertical-align: top;\n",
       "    }\n",
       "\n",
       "    .dataframe thead th {\n",
       "        text-align: right;\n",
       "    }\n",
       "</style>\n",
       "<table border=\"1\" class=\"dataframe\">\n",
       "  <thead>\n",
       "    <tr style=\"text-align: right;\">\n",
       "      <th></th>\n",
       "      <th>id</th>\n",
       "      <th>name</th>\n",
       "      <th>nombre</th>\n",
       "      <th>NAME</th>\n",
       "      <th>description</th>\n",
       "      <th>price</th>\n",
       "      <th>date</th>\n",
       "      <th>brand</th>\n",
       "    </tr>\n",
       "  </thead>\n",
       "  <tbody>\n",
       "    <tr>\n",
       "      <th>60</th>\n",
       "      <td>61</td>\n",
       "      <td>Awesome Bronze Ball</td>\n",
       "      <td>charolzapato de</td>\n",
       "      <td>NaN</td>\n",
       "      <td>esto es un zapato de charol de tela bacano</td>\n",
       "      <td>50,000</td>\n",
       "      <td>2019-05-55 12:00 pm</td>\n",
       "      <td>hecha a mano</td>\n",
       "    </tr>\n",
       "  </tbody>\n",
       "</table>\n",
       "</div>"
      ],
      "text/plain": [
       "    id                 name            nombre NAME  \\\n",
       "60  61  Awesome Bronze Ball   charolzapato de  NaN   \n",
       "\n",
       "                                   description   price                 date  \\\n",
       "60  esto es un zapato de charol de tela bacano  50,000  2019-05-55 12:00 pm   \n",
       "\n",
       "           brand  \n",
       "60  hecha a mano  "
      ]
     },
     "execution_count": 48,
     "metadata": {},
     "output_type": "execute_result"
    }
   ],
   "source": [
    "Sales_dataframe[(Sales_dataframe.id == '61')]"
   ]
  },
  {
   "cell_type": "code",
   "execution_count": 49,
   "id": "5ee99ad6",
   "metadata": {},
   "outputs": [
    {
     "data": {
      "text/html": [
       "<div>\n",
       "<style scoped>\n",
       "    .dataframe tbody tr th:only-of-type {\n",
       "        vertical-align: middle;\n",
       "    }\n",
       "\n",
       "    .dataframe tbody tr th {\n",
       "        vertical-align: top;\n",
       "    }\n",
       "\n",
       "    .dataframe thead th {\n",
       "        text-align: right;\n",
       "    }\n",
       "</style>\n",
       "<table border=\"1\" class=\"dataframe\">\n",
       "  <thead>\n",
       "    <tr style=\"text-align: right;\">\n",
       "      <th></th>\n",
       "      <th>id</th>\n",
       "      <th>name</th>\n",
       "      <th>nombre</th>\n",
       "      <th>NAME</th>\n",
       "      <th>description</th>\n",
       "      <th>price</th>\n",
       "      <th>date</th>\n",
       "      <th>brand</th>\n",
       "    </tr>\n",
       "  </thead>\n",
       "  <tbody>\n",
       "    <tr>\n",
       "      <th>61</th>\n",
       "      <td>62</td>\n",
       "      <td>Tasty Granite Chips</td>\n",
       "      <td>NaN</td>\n",
       "      <td>buso</td>\n",
       "      <td>12343</td>\n",
       "      <td>70.00</td>\n",
       "      <td>2019-05-55 12:00 pm</td>\n",
       "      <td>offwhite</td>\n",
       "    </tr>\n",
       "  </tbody>\n",
       "</table>\n",
       "</div>"
      ],
      "text/plain": [
       "    id                 name nombre  NAME description  price  \\\n",
       "61  62  Tasty Granite Chips    NaN  buso       12343  70.00   \n",
       "\n",
       "                   date     brand  \n",
       "61  2019-05-55 12:00 pm  offwhite  "
      ]
     },
     "execution_count": 49,
     "metadata": {},
     "output_type": "execute_result"
    }
   ],
   "source": [
    "Sales_dataframe[(Sales_dataframe.id == '62')]"
   ]
  },
  {
   "cell_type": "markdown",
   "id": "811b81a3",
   "metadata": {},
   "source": [
    "### Replacing notna values from nombre and Name columns to name column"
   ]
  },
  {
   "cell_type": "code",
   "execution_count": 50,
   "id": "2563a396",
   "metadata": {},
   "outputs": [],
   "source": [
    "nombre_notnull = Sales_dataframe['nombre'].values[60]"
   ]
  },
  {
   "cell_type": "code",
   "execution_count": 51,
   "id": "618e8d6d",
   "metadata": {},
   "outputs": [],
   "source": [
    "NAME_notnull = Sales_dataframe[\"NAME\"].values[61]"
   ]
  },
  {
   "cell_type": "code",
   "execution_count": 52,
   "id": "28f7551b",
   "metadata": {},
   "outputs": [],
   "source": [
    "for x in range(len(Sales_dataframe.index)):\n",
    "    if pd.notna(Sales_dataframe['nombre'].values[x]):\n",
    "        Sales_dataframe['name'].values[x] = Sales_dataframe['name'].values[x].replace(str(Sales_dataframe['name'].values[x]),str(Sales_dataframe['nombre'].values[x]))\n",
    "    if pd.notna(Sales_dataframe['NAME'].values[x]):\n",
    "        Sales_dataframe['name'].values[x] = Sales_dataframe['name'].values[x].replace(str(Sales_dataframe['name'].values[x]),str(Sales_dataframe['NAME'].values[x]))"
   ]
  },
  {
   "cell_type": "code",
   "execution_count": 53,
   "id": "cd853c5c",
   "metadata": {},
   "outputs": [
    {
     "data": {
      "text/html": [
       "<div>\n",
       "<style scoped>\n",
       "    .dataframe tbody tr th:only-of-type {\n",
       "        vertical-align: middle;\n",
       "    }\n",
       "\n",
       "    .dataframe tbody tr th {\n",
       "        vertical-align: top;\n",
       "    }\n",
       "\n",
       "    .dataframe thead th {\n",
       "        text-align: right;\n",
       "    }\n",
       "</style>\n",
       "<table border=\"1\" class=\"dataframe\">\n",
       "  <thead>\n",
       "    <tr style=\"text-align: right;\">\n",
       "      <th></th>\n",
       "      <th>id</th>\n",
       "      <th>name</th>\n",
       "      <th>nombre</th>\n",
       "      <th>NAME</th>\n",
       "      <th>description</th>\n",
       "      <th>price</th>\n",
       "      <th>date</th>\n",
       "      <th>brand</th>\n",
       "    </tr>\n",
       "  </thead>\n",
       "  <tbody>\n",
       "    <tr>\n",
       "      <th>60</th>\n",
       "      <td>61</td>\n",
       "      <td>charolzapato de</td>\n",
       "      <td>charolzapato de</td>\n",
       "      <td>NaN</td>\n",
       "      <td>esto es un zapato de charol de tela bacano</td>\n",
       "      <td>50,000</td>\n",
       "      <td>2019-05-55 12:00 pm</td>\n",
       "      <td>hecha a mano</td>\n",
       "    </tr>\n",
       "    <tr>\n",
       "      <th>61</th>\n",
       "      <td>62</td>\n",
       "      <td>buso</td>\n",
       "      <td>NaN</td>\n",
       "      <td>buso</td>\n",
       "      <td>12343</td>\n",
       "      <td>70.00</td>\n",
       "      <td>2019-05-55 12:00 pm</td>\n",
       "      <td>offwhite</td>\n",
       "    </tr>\n",
       "  </tbody>\n",
       "</table>\n",
       "</div>"
      ],
      "text/plain": [
       "    id              name            nombre  NAME  \\\n",
       "60  61   charolzapato de   charolzapato de   NaN   \n",
       "61  62              buso               NaN  buso   \n",
       "\n",
       "                                   description   price                 date  \\\n",
       "60  esto es un zapato de charol de tela bacano  50,000  2019-05-55 12:00 pm   \n",
       "61                                       12343   70.00  2019-05-55 12:00 pm   \n",
       "\n",
       "           brand  \n",
       "60  hecha a mano  \n",
       "61      offwhite  "
      ]
     },
     "execution_count": 53,
     "metadata": {},
     "output_type": "execute_result"
    }
   ],
   "source": [
    "Sales_dataframe[(Sales_dataframe.id == '61')|(Sales_dataframe.id == '62')]"
   ]
  },
  {
   "cell_type": "markdown",
   "id": "4712047e",
   "metadata": {},
   "source": [
    "### Deleting nombre and NAME column"
   ]
  },
  {
   "cell_type": "code",
   "execution_count": 54,
   "id": "24f7fe8c",
   "metadata": {
    "scrolled": true
   },
   "outputs": [],
   "source": [
    "Sales_dataframe = Sales_dataframe.drop(['nombre','NAME'], axis=1)"
   ]
  },
  {
   "cell_type": "code",
   "execution_count": 55,
   "id": "8e42fd81",
   "metadata": {},
   "outputs": [
    {
     "data": {
      "text/plain": [
       "['id', 'name', 'description', 'price', 'date', 'brand']"
      ]
     },
     "execution_count": 55,
     "metadata": {},
     "output_type": "execute_result"
    }
   ],
   "source": [
    "list(Sales_dataframe.columns)"
   ]
  },
  {
   "cell_type": "markdown",
   "id": "a24e90a4",
   "metadata": {},
   "source": [
    "### Replacing NaN for 'No Brand' in brand column"
   ]
  },
  {
   "cell_type": "code",
   "execution_count": 56,
   "id": "eb38f13a",
   "metadata": {},
   "outputs": [],
   "source": [
    "Sales_dataframe[\"brand\"]=Sales_dataframe[\"brand\"].fillna('No Brand')"
   ]
  },
  {
   "cell_type": "markdown",
   "id": "4e445a4e",
   "metadata": {},
   "source": [
    "### Checking for mistakes in price column"
   ]
  },
  {
   "cell_type": "code",
   "execution_count": 57,
   "id": "2bd0686a",
   "metadata": {},
   "outputs": [
    {
     "data": {
      "text/html": [
       "<div>\n",
       "<style scoped>\n",
       "    .dataframe tbody tr th:only-of-type {\n",
       "        vertical-align: middle;\n",
       "    }\n",
       "\n",
       "    .dataframe tbody tr th {\n",
       "        vertical-align: top;\n",
       "    }\n",
       "\n",
       "    .dataframe thead th {\n",
       "        text-align: right;\n",
       "    }\n",
       "</style>\n",
       "<table border=\"1\" class=\"dataframe\">\n",
       "  <thead>\n",
       "    <tr style=\"text-align: right;\">\n",
       "      <th></th>\n",
       "      <th>id</th>\n",
       "      <th>name</th>\n",
       "      <th>description</th>\n",
       "      <th>price</th>\n",
       "      <th>date</th>\n",
       "      <th>brand</th>\n",
       "    </tr>\n",
       "  </thead>\n",
       "  <tbody>\n",
       "    <tr>\n",
       "      <th>51</th>\n",
       "      <td>52</td>\n",
       "      <td>gorra</td>\n",
       "      <td>esto es una gorra bacana</td>\n",
       "      <td>15,000</td>\n",
       "      <td>2022-05-15</td>\n",
       "      <td>No Brand</td>\n",
       "    </tr>\n",
       "    <tr>\n",
       "      <th>52</th>\n",
       "      <td>53</td>\n",
       "      <td>pantalon</td>\n",
       "      <td>esto es una pantalon bacano</td>\n",
       "      <td>$15,000</td>\n",
       "      <td>2022-05-15</td>\n",
       "      <td>No Brand</td>\n",
       "    </tr>\n",
       "    <tr>\n",
       "      <th>53</th>\n",
       "      <td>54</td>\n",
       "      <td>chancla</td>\n",
       "      <td>esto es una chancla bacano</td>\n",
       "      <td>e 15,000</td>\n",
       "      <td>2021/05/15</td>\n",
       "      <td>No Brand</td>\n",
       "    </tr>\n",
       "    <tr>\n",
       "      <th>57</th>\n",
       "      <td>58</td>\n",
       "      <td>blue jacket</td>\n",
       "      <td>esto es una chancla bacano</td>\n",
       "      <td>$ 50,000</td>\n",
       "      <td>2021/05/15 12:00 pm</td>\n",
       "      <td>aeropostal</td>\n",
       "    </tr>\n",
       "    <tr>\n",
       "      <th>58</th>\n",
       "      <td>59</td>\n",
       "      <td>ruana</td>\n",
       "      <td>esto es una chancla bacano</td>\n",
       "      <td>$  15,000</td>\n",
       "      <td>2019-05-55 12:00 pm</td>\n",
       "      <td>aeropostal</td>\n",
       "    </tr>\n",
       "    <tr>\n",
       "      <th>59</th>\n",
       "      <td>60</td>\n",
       "      <td>ruana de tela</td>\n",
       "      <td>esto es una ruana de tela bacano</td>\n",
       "      <td>45,00</td>\n",
       "      <td>2019-05-55 12:00 pm</td>\n",
       "      <td>hecha a mano</td>\n",
       "    </tr>\n",
       "    <tr>\n",
       "      <th>60</th>\n",
       "      <td>61</td>\n",
       "      <td>charolzapato de</td>\n",
       "      <td>esto es un zapato de charol de tela bacano</td>\n",
       "      <td>50,000</td>\n",
       "      <td>2019-05-55 12:00 pm</td>\n",
       "      <td>hecha a mano</td>\n",
       "    </tr>\n",
       "  </tbody>\n",
       "</table>\n",
       "</div>"
      ],
      "text/plain": [
       "    id              name                                 description  \\\n",
       "51  52             gorra                    esto es una gorra bacana   \n",
       "52  53          pantalon                 esto es una pantalon bacano   \n",
       "53  54           chancla                  esto es una chancla bacano   \n",
       "57  58       blue jacket                  esto es una chancla bacano   \n",
       "58  59             ruana                  esto es una chancla bacano   \n",
       "59  60     ruana de tela            esto es una ruana de tela bacano   \n",
       "60  61   charolzapato de  esto es un zapato de charol de tela bacano   \n",
       "\n",
       "        price                 date         brand  \n",
       "51     15,000           2022-05-15      No Brand  \n",
       "52    $15,000           2022-05-15      No Brand  \n",
       "53   e 15,000           2021/05/15      No Brand  \n",
       "57   $ 50,000  2021/05/15 12:00 pm    aeropostal  \n",
       "58  $  15,000  2019-05-55 12:00 pm    aeropostal  \n",
       "59      45,00  2019-05-55 12:00 pm  hecha a mano  \n",
       "60     50,000  2019-05-55 12:00 pm  hecha a mano  "
      ]
     },
     "execution_count": 57,
     "metadata": {},
     "output_type": "execute_result"
    }
   ],
   "source": [
    "Sales_dataframe[Sales_dataframe['price'].str.contains(',', na=False)]"
   ]
  },
  {
   "cell_type": "markdown",
   "id": "9b316288",
   "metadata": {},
   "source": [
    "### Fixing mistakes"
   ]
  },
  {
   "cell_type": "code",
   "execution_count": 58,
   "id": "0a73065b",
   "metadata": {},
   "outputs": [
    {
     "name": "stderr",
     "output_type": "stream",
     "text": [
      "C:\\Users\\lizme\\AppData\\Local\\Temp\\ipykernel_2944\\193647780.py:3: FutureWarning: The default value of regex will change from True to False in a future version. In addition, single character regular expressions will *not* be treated as literal strings when regex=True.\n",
      "  Sales_dataframe[\"price\"]=Sales_dataframe[\"price\"].str.replace(\"$\", \"\")\n"
     ]
    }
   ],
   "source": [
    "Sales_dataframe[\"price\"]=Sales_dataframe[\"price\"].astype(str).str.replace(\",\", \".\")\n",
    "Sales_dataframe[\"price\"]=Sales_dataframe[\"price\"].str.replace(\"€\", \"\")\n",
    "Sales_dataframe[\"price\"]=Sales_dataframe[\"price\"].str.replace(\"$\", \"\")\n",
    "Sales_dataframe[\"price\"]=Sales_dataframe[\"price\"].str.replace(\"e\", \"\")\n",
    "Sales_dataframe[\"price\"]=Sales_dataframe[\"price\"].str.replace(\" \", \"\")"
   ]
  },
  {
   "cell_type": "code",
   "execution_count": 59,
   "id": "0ee27e90",
   "metadata": {},
   "outputs": [
    {
     "data": {
      "text/html": [
       "<div>\n",
       "<style scoped>\n",
       "    .dataframe tbody tr th:only-of-type {\n",
       "        vertical-align: middle;\n",
       "    }\n",
       "\n",
       "    .dataframe tbody tr th {\n",
       "        vertical-align: top;\n",
       "    }\n",
       "\n",
       "    .dataframe thead th {\n",
       "        text-align: right;\n",
       "    }\n",
       "</style>\n",
       "<table border=\"1\" class=\"dataframe\">\n",
       "  <thead>\n",
       "    <tr style=\"text-align: right;\">\n",
       "      <th></th>\n",
       "      <th>id</th>\n",
       "      <th>name</th>\n",
       "      <th>description</th>\n",
       "      <th>price</th>\n",
       "      <th>date</th>\n",
       "      <th>brand</th>\n",
       "    </tr>\n",
       "  </thead>\n",
       "  <tbody>\n",
       "  </tbody>\n",
       "</table>\n",
       "</div>"
      ],
      "text/plain": [
       "Empty DataFrame\n",
       "Columns: [id, name, description, price, date, brand]\n",
       "Index: []"
      ]
     },
     "execution_count": 59,
     "metadata": {},
     "output_type": "execute_result"
    }
   ],
   "source": [
    "Sales_dataframe[Sales_dataframe['price'].str.contains(',', na=False)]\n",
    "Sales_dataframe[Sales_dataframe['price'].str.contains('€', na=False)]\n",
    "Sales_dataframe[Sales_dataframe['price'].str.contains('$', na=False)]\n",
    "Sales_dataframe[Sales_dataframe['price'].str.contains('e', na=False)]\n",
    "Sales_dataframe[Sales_dataframe['price'].str.contains(' ', na=False)]"
   ]
  },
  {
   "cell_type": "markdown",
   "id": "16b1e007",
   "metadata": {},
   "source": [
    "### Deleting dates out of range"
   ]
  },
  {
   "cell_type": "code",
   "execution_count": 60,
   "id": "f376f5fe",
   "metadata": {},
   "outputs": [
    {
     "data": {
      "text/html": [
       "<div>\n",
       "<style scoped>\n",
       "    .dataframe tbody tr th:only-of-type {\n",
       "        vertical-align: middle;\n",
       "    }\n",
       "\n",
       "    .dataframe tbody tr th {\n",
       "        vertical-align: top;\n",
       "    }\n",
       "\n",
       "    .dataframe thead th {\n",
       "        text-align: right;\n",
       "    }\n",
       "</style>\n",
       "<table border=\"1\" class=\"dataframe\">\n",
       "  <thead>\n",
       "    <tr style=\"text-align: right;\">\n",
       "      <th></th>\n",
       "      <th>id</th>\n",
       "      <th>name</th>\n",
       "      <th>description</th>\n",
       "      <th>price</th>\n",
       "      <th>date</th>\n",
       "      <th>brand</th>\n",
       "    </tr>\n",
       "  </thead>\n",
       "  <tbody>\n",
       "    <tr>\n",
       "      <th>58</th>\n",
       "      <td>59</td>\n",
       "      <td>ruana</td>\n",
       "      <td>esto es una chancla bacano</td>\n",
       "      <td>15.000</td>\n",
       "      <td>2019-05-55 12:00 pm</td>\n",
       "      <td>aeropostal</td>\n",
       "    </tr>\n",
       "    <tr>\n",
       "      <th>59</th>\n",
       "      <td>60</td>\n",
       "      <td>ruana de tela</td>\n",
       "      <td>esto es una ruana de tela bacano</td>\n",
       "      <td>45.00</td>\n",
       "      <td>2019-05-55 12:00 pm</td>\n",
       "      <td>hecha a mano</td>\n",
       "    </tr>\n",
       "    <tr>\n",
       "      <th>60</th>\n",
       "      <td>61</td>\n",
       "      <td>charolzapato de</td>\n",
       "      <td>esto es un zapato de charol de tela bacano</td>\n",
       "      <td>50.000</td>\n",
       "      <td>2019-05-55 12:00 pm</td>\n",
       "      <td>hecha a mano</td>\n",
       "    </tr>\n",
       "    <tr>\n",
       "      <th>61</th>\n",
       "      <td>62</td>\n",
       "      <td>buso</td>\n",
       "      <td>12343</td>\n",
       "      <td>70.00</td>\n",
       "      <td>2019-05-55 12:00 pm</td>\n",
       "      <td>offwhite</td>\n",
       "    </tr>\n",
       "  </tbody>\n",
       "</table>\n",
       "</div>"
      ],
      "text/plain": [
       "    id              name                                 description   price  \\\n",
       "58  59             ruana                  esto es una chancla bacano  15.000   \n",
       "59  60     ruana de tela            esto es una ruana de tela bacano   45.00   \n",
       "60  61   charolzapato de  esto es un zapato de charol de tela bacano  50.000   \n",
       "61  62              buso                                       12343   70.00   \n",
       "\n",
       "                   date         brand  \n",
       "58  2019-05-55 12:00 pm    aeropostal  \n",
       "59  2019-05-55 12:00 pm  hecha a mano  \n",
       "60  2019-05-55 12:00 pm  hecha a mano  \n",
       "61  2019-05-55 12:00 pm      offwhite  "
      ]
     },
     "execution_count": 60,
     "metadata": {},
     "output_type": "execute_result"
    }
   ],
   "source": [
    "Sales_dataframe[Sales_dataframe['date'].str.contains('2019-05-55 12:00 pm', na=False)]"
   ]
  },
  {
   "cell_type": "code",
   "execution_count": 61,
   "id": "c54a47e0",
   "metadata": {},
   "outputs": [],
   "source": [
    "Sales_dataframe.drop([58,59,60,61], axis=0, inplace=True)"
   ]
  },
  {
   "cell_type": "markdown",
   "id": "8f9e6d29",
   "metadata": {},
   "source": [
    "### Standarize date column"
   ]
  },
  {
   "cell_type": "code",
   "execution_count": 62,
   "id": "d7652d30",
   "metadata": {},
   "outputs": [
    {
     "data": {
      "text/plain": [
       "id             object\n",
       "name           object\n",
       "description    object\n",
       "price          object\n",
       "date           object\n",
       "brand          object\n",
       "dtype: object"
      ]
     },
     "execution_count": 62,
     "metadata": {},
     "output_type": "execute_result"
    }
   ],
   "source": [
    "Sales_dataframe.dtypes"
   ]
  },
  {
   "cell_type": "code",
   "execution_count": 63,
   "id": "855313d4",
   "metadata": {},
   "outputs": [],
   "source": [
    "Sales_dataframe['date'] = pd.to_datetime(Sales_dataframe['date'])\n",
    "Sales_dataframe['date'] = pd.to_datetime(Sales_dataframe['date'], utc=True, format='%Y-%m-%d')\n",
    "Sales_dataframe['date'] = Sales_dataframe['date'].dt.date"
   ]
  },
  {
   "cell_type": "code",
   "execution_count": 64,
   "id": "a3f79f13",
   "metadata": {},
   "outputs": [
    {
     "data": {
      "text/html": [
       "<div>\n",
       "<style scoped>\n",
       "    .dataframe tbody tr th:only-of-type {\n",
       "        vertical-align: middle;\n",
       "    }\n",
       "\n",
       "    .dataframe tbody tr th {\n",
       "        vertical-align: top;\n",
       "    }\n",
       "\n",
       "    .dataframe thead th {\n",
       "        text-align: right;\n",
       "    }\n",
       "</style>\n",
       "<table border=\"1\" class=\"dataframe\">\n",
       "  <thead>\n",
       "    <tr style=\"text-align: right;\">\n",
       "      <th></th>\n",
       "      <th>id</th>\n",
       "      <th>name</th>\n",
       "      <th>description</th>\n",
       "      <th>price</th>\n",
       "      <th>date</th>\n",
       "      <th>brand</th>\n",
       "    </tr>\n",
       "  </thead>\n",
       "  <tbody>\n",
       "    <tr>\n",
       "      <th>0</th>\n",
       "      <td>1</td>\n",
       "      <td>Handcrafted Bronze Car</td>\n",
       "      <td>New range of formal shirts are designed keepin...</td>\n",
       "      <td>837.00</td>\n",
       "      <td>2022-05-22</td>\n",
       "      <td>No Brand</td>\n",
       "    </tr>\n",
       "    <tr>\n",
       "      <th>1</th>\n",
       "      <td>2</td>\n",
       "      <td>Recycled Fresh Ball</td>\n",
       "      <td>The Football Is Good For Training And Recreati...</td>\n",
       "      <td>906.00</td>\n",
       "      <td>2022-05-21</td>\n",
       "      <td>No Brand</td>\n",
       "    </tr>\n",
       "    <tr>\n",
       "      <th>2</th>\n",
       "      <td>3</td>\n",
       "      <td>Recycled Rubber Bike</td>\n",
       "      <td>The automobile layout consists of a front-engi...</td>\n",
       "      <td>547.00</td>\n",
       "      <td>2022-05-22</td>\n",
       "      <td>No Brand</td>\n",
       "    </tr>\n",
       "    <tr>\n",
       "      <th>3</th>\n",
       "      <td>4</td>\n",
       "      <td>Rustic Wooden Computer</td>\n",
       "      <td>The Football Is Good For Training And Recreati...</td>\n",
       "      <td>129.00</td>\n",
       "      <td>2022-05-22</td>\n",
       "      <td>No Brand</td>\n",
       "    </tr>\n",
       "    <tr>\n",
       "      <th>4</th>\n",
       "      <td>5</td>\n",
       "      <td>Sleek Wooden Chicken</td>\n",
       "      <td>Carbonite web goalkeeper gloves are ergonomica...</td>\n",
       "      <td>58.00</td>\n",
       "      <td>2022-05-22</td>\n",
       "      <td>No Brand</td>\n",
       "    </tr>\n",
       "  </tbody>\n",
       "</table>\n",
       "</div>"
      ],
      "text/plain": [
       "  id                    name  \\\n",
       "0  1  Handcrafted Bronze Car   \n",
       "1  2     Recycled Fresh Ball   \n",
       "2  3    Recycled Rubber Bike   \n",
       "3  4  Rustic Wooden Computer   \n",
       "4  5    Sleek Wooden Chicken   \n",
       "\n",
       "                                         description   price        date  \\\n",
       "0  New range of formal shirts are designed keepin...  837.00  2022-05-22   \n",
       "1  The Football Is Good For Training And Recreati...  906.00  2022-05-21   \n",
       "2  The automobile layout consists of a front-engi...  547.00  2022-05-22   \n",
       "3  The Football Is Good For Training And Recreati...  129.00  2022-05-22   \n",
       "4  Carbonite web goalkeeper gloves are ergonomica...   58.00  2022-05-22   \n",
       "\n",
       "      brand  \n",
       "0  No Brand  \n",
       "1  No Brand  \n",
       "2  No Brand  \n",
       "3  No Brand  \n",
       "4  No Brand  "
      ]
     },
     "execution_count": 64,
     "metadata": {},
     "output_type": "execute_result"
    }
   ],
   "source": [
    "Sales_dataframe.head(5)"
   ]
  },
  {
   "cell_type": "markdown",
   "id": "0cd5a521",
   "metadata": {},
   "source": [
    "### Fixing Index"
   ]
  },
  {
   "cell_type": "code",
   "execution_count": 65,
   "id": "4c376bb1",
   "metadata": {},
   "outputs": [],
   "source": [
    "Sales_dataframe = Sales_dataframe.reset_index(drop=True)\n",
    "for i in Sales_dataframe.index:\n",
    "    Sales_dataframe[\"id\"][i]=i+1\n",
    "    i+=1"
   ]
  },
  {
   "cell_type": "code",
   "execution_count": 66,
   "id": "8d26ae48",
   "metadata": {},
   "outputs": [],
   "source": [
    "Sales_dataframe = Sales_dataframe.reset_index(drop=True)"
   ]
  },
  {
   "cell_type": "markdown",
   "id": "0c9c983e",
   "metadata": {},
   "source": [
    "# LOAD"
   ]
  },
  {
   "cell_type": "code",
   "execution_count": 67,
   "id": "b46b46b9",
   "metadata": {},
   "outputs": [],
   "source": [
    "SalesPath = os.path.join(current_directory, 'sales_products_ETL.csv')\n",
    "Sales_dataframe.to_csv(SalesPath)"
   ]
  }
 ],
 "metadata": {
  "kernelspec": {
   "display_name": "Python 3 (ipykernel)",
   "language": "python",
   "name": "python3"
  },
  "language_info": {
   "codemirror_mode": {
    "name": "ipython",
    "version": 3
   },
   "file_extension": ".py",
   "mimetype": "text/x-python",
   "name": "python",
   "nbconvert_exporter": "python",
   "pygments_lexer": "ipython3",
   "version": "3.10.2"
  }
 },
 "nbformat": 4,
 "nbformat_minor": 5
}
