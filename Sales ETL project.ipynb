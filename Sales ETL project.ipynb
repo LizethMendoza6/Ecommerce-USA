{
 "cells": [
  {
   "cell_type": "code",
   "execution_count": 386,
   "id": "c60c5a08",
   "metadata": {},
   "outputs": [],
   "source": [
    "import pandas as pd\n",
    "import requests\n",
    "import os"
   ]
  },
  {
   "cell_type": "markdown",
   "id": "856d7aa0",
   "metadata": {},
   "source": [
    "# SALES ETL PROJECT"
   ]
  },
  {
   "cell_type": "markdown",
   "id": "886b8156",
   "metadata": {},
   "source": [
    "# EXTRACTION"
   ]
  },
  {
   "cell_type": "code",
   "execution_count": 387,
   "id": "a0517d3e",
   "metadata": {},
   "outputs": [],
   "source": [
    "current_directory = os.getcwd()\n",
    "file = os.path.join(current_directory, 'sales_products.csv')"
   ]
  },
  {
   "cell_type": "code",
   "execution_count": 388,
   "id": "f609c251",
   "metadata": {},
   "outputs": [],
   "source": [
    "current_directory = os.getcwd()\n",
    "urlSales_DataSource = 'https://62892c727af826e39e69681c.mockapi.io/api/SalesETL/Products'\n",
    "csvSales__DataSource = pd.read_csv(file)"
   ]
  },
  {
   "cell_type": "code",
   "execution_count": 389,
   "id": "17426e61",
   "metadata": {},
   "outputs": [
    {
     "name": "stdout",
     "output_type": "stream",
     "text": [
      "Ok\n"
     ]
    }
   ],
   "source": [
    "response = requests.get(urlSales_DataSource)\n",
    "if(response.status_code==200):\n",
    "    print('Ok')\n",
    "else: \n",
    "    print('Error')"
   ]
  },
  {
   "cell_type": "markdown",
   "id": "ec473bb1",
   "metadata": {},
   "source": [
    "### Creating dataframes"
   ]
  },
  {
   "cell_type": "code",
   "execution_count": 390,
   "id": "199fb12e",
   "metadata": {},
   "outputs": [],
   "source": [
    "url_dataframe = pd.DataFrame(response.json())\n",
    "csv_dataframe = csvSales__DataSource"
   ]
  },
  {
   "cell_type": "code",
   "execution_count": 391,
   "id": "c8713277",
   "metadata": {},
   "outputs": [
    {
     "data": {
      "text/html": [
       "<div>\n",
       "<style scoped>\n",
       "    .dataframe tbody tr th:only-of-type {\n",
       "        vertical-align: middle;\n",
       "    }\n",
       "\n",
       "    .dataframe tbody tr th {\n",
       "        vertical-align: top;\n",
       "    }\n",
       "\n",
       "    .dataframe thead th {\n",
       "        text-align: right;\n",
       "    }\n",
       "</style>\n",
       "<table border=\"1\" class=\"dataframe\">\n",
       "  <thead>\n",
       "    <tr style=\"text-align: right;\">\n",
       "      <th></th>\n",
       "      <th>name</th>\n",
       "      <th>price</th>\n",
       "      <th>description</th>\n",
       "      <th>date</th>\n",
       "      <th>id</th>\n",
       "      <th>brand</th>\n",
       "      <th>nombre</th>\n",
       "      <th>NAME</th>\n",
       "    </tr>\n",
       "  </thead>\n",
       "  <tbody>\n",
       "    <tr>\n",
       "      <th>0</th>\n",
       "      <td>Handcrafted Bronze Car</td>\n",
       "      <td>837.00</td>\n",
       "      <td>New range of formal shirts are designed keepin...</td>\n",
       "      <td>2022-05-22T16:33:56.666Z</td>\n",
       "      <td>1</td>\n",
       "      <td>NaN</td>\n",
       "      <td>NaN</td>\n",
       "      <td>NaN</td>\n",
       "    </tr>\n",
       "    <tr>\n",
       "      <th>1</th>\n",
       "      <td>Recycled Fresh Ball</td>\n",
       "      <td>906.00</td>\n",
       "      <td>The Football Is Good For Training And Recreati...</td>\n",
       "      <td>2022-05-21T22:35:17.730Z</td>\n",
       "      <td>2</td>\n",
       "      <td>NaN</td>\n",
       "      <td>NaN</td>\n",
       "      <td>NaN</td>\n",
       "    </tr>\n",
       "    <tr>\n",
       "      <th>2</th>\n",
       "      <td>Recycled Rubber Bike</td>\n",
       "      <td>547.00</td>\n",
       "      <td>The automobile layout consists of a front-engi...</td>\n",
       "      <td>2022-05-22T06:55:55.364Z</td>\n",
       "      <td>3</td>\n",
       "      <td>NaN</td>\n",
       "      <td>NaN</td>\n",
       "      <td>NaN</td>\n",
       "    </tr>\n",
       "    <tr>\n",
       "      <th>3</th>\n",
       "      <td>Rustic Wooden Computer</td>\n",
       "      <td>129.00</td>\n",
       "      <td>The Football Is Good For Training And Recreati...</td>\n",
       "      <td>2022-05-22T01:18:21.524Z</td>\n",
       "      <td>4</td>\n",
       "      <td>NaN</td>\n",
       "      <td>NaN</td>\n",
       "      <td>NaN</td>\n",
       "    </tr>\n",
       "    <tr>\n",
       "      <th>4</th>\n",
       "      <td>Sleek Wooden Chicken</td>\n",
       "      <td>58.00</td>\n",
       "      <td>Carbonite web goalkeeper gloves are ergonomica...</td>\n",
       "      <td>2022-05-22T18:38:39.850Z</td>\n",
       "      <td>5</td>\n",
       "      <td>NaN</td>\n",
       "      <td>NaN</td>\n",
       "      <td>NaN</td>\n",
       "    </tr>\n",
       "  </tbody>\n",
       "</table>\n",
       "</div>"
      ],
      "text/plain": [
       "                     name   price  \\\n",
       "0  Handcrafted Bronze Car  837.00   \n",
       "1     Recycled Fresh Ball  906.00   \n",
       "2    Recycled Rubber Bike  547.00   \n",
       "3  Rustic Wooden Computer  129.00   \n",
       "4    Sleek Wooden Chicken   58.00   \n",
       "\n",
       "                                         description  \\\n",
       "0  New range of formal shirts are designed keepin...   \n",
       "1  The Football Is Good For Training And Recreati...   \n",
       "2  The automobile layout consists of a front-engi...   \n",
       "3  The Football Is Good For Training And Recreati...   \n",
       "4  Carbonite web goalkeeper gloves are ergonomica...   \n",
       "\n",
       "                       date id brand nombre NAME  \n",
       "0  2022-05-22T16:33:56.666Z  1   NaN    NaN  NaN  \n",
       "1  2022-05-21T22:35:17.730Z  2   NaN    NaN  NaN  \n",
       "2  2022-05-22T06:55:55.364Z  3   NaN    NaN  NaN  \n",
       "3  2022-05-22T01:18:21.524Z  4   NaN    NaN  NaN  \n",
       "4  2022-05-22T18:38:39.850Z  5   NaN    NaN  NaN  "
      ]
     },
     "execution_count": 391,
     "metadata": {},
     "output_type": "execute_result"
    }
   ],
   "source": [
    "url_dataframe.head()"
   ]
  },
  {
   "cell_type": "code",
   "execution_count": 392,
   "id": "bb793135",
   "metadata": {},
   "outputs": [
    {
     "data": {
      "text/html": [
       "<div>\n",
       "<style scoped>\n",
       "    .dataframe tbody tr th:only-of-type {\n",
       "        vertical-align: middle;\n",
       "    }\n",
       "\n",
       "    .dataframe tbody tr th {\n",
       "        vertical-align: top;\n",
       "    }\n",
       "\n",
       "    .dataframe thead th {\n",
       "        text-align: right;\n",
       "    }\n",
       "</style>\n",
       "<table border=\"1\" class=\"dataframe\">\n",
       "  <thead>\n",
       "    <tr style=\"text-align: right;\">\n",
       "      <th></th>\n",
       "      <th>name</th>\n",
       "      <th>price</th>\n",
       "      <th>description</th>\n",
       "      <th>date</th>\n",
       "      <th>id</th>\n",
       "    </tr>\n",
       "  </thead>\n",
       "  <tbody>\n",
       "    <tr>\n",
       "      <th>0</th>\n",
       "      <td>Bacon</td>\n",
       "      <td>166.0</td>\n",
       "      <td>The Nagasaki Lander is the trademarked name of...</td>\n",
       "      <td>2021-10-26T19:00:24.925Z</td>\n",
       "      <td>1</td>\n",
       "    </tr>\n",
       "    <tr>\n",
       "      <th>1</th>\n",
       "      <td>Bike</td>\n",
       "      <td>19.0</td>\n",
       "      <td>Ergonomic executive chair upholstered in bonde...</td>\n",
       "      <td>2021-10-03T18:02:12.519Z</td>\n",
       "      <td>2</td>\n",
       "    </tr>\n",
       "    <tr>\n",
       "      <th>2</th>\n",
       "      <td>Towels</td>\n",
       "      <td>216.0</td>\n",
       "      <td>The slim &amp; simple Maple Gaming Keyboard from D...</td>\n",
       "      <td>2022-03-02T21:42:06.848Z</td>\n",
       "      <td>3</td>\n",
       "    </tr>\n",
       "    <tr>\n",
       "      <th>3</th>\n",
       "      <td>Hat</td>\n",
       "      <td>464.0</td>\n",
       "      <td>The Nagasaki Lander is the trademarked name of...</td>\n",
       "      <td>2022-05-20T11:46:17.171Z</td>\n",
       "      <td>4</td>\n",
       "    </tr>\n",
       "    <tr>\n",
       "      <th>4</th>\n",
       "      <td>Keyboard</td>\n",
       "      <td>819.0</td>\n",
       "      <td>New ABC 13 9370, 13.3, 5th Gen CoreA5-8250U, 8...</td>\n",
       "      <td>2021-09-02T04:01:05.365Z</td>\n",
       "      <td>5</td>\n",
       "    </tr>\n",
       "  </tbody>\n",
       "</table>\n",
       "</div>"
      ],
      "text/plain": [
       "       name  price                                        description  \\\n",
       "0     Bacon  166.0  The Nagasaki Lander is the trademarked name of...   \n",
       "1      Bike   19.0  Ergonomic executive chair upholstered in bonde...   \n",
       "2    Towels  216.0  The slim & simple Maple Gaming Keyboard from D...   \n",
       "3       Hat  464.0  The Nagasaki Lander is the trademarked name of...   \n",
       "4  Keyboard  819.0  New ABC 13 9370, 13.3, 5th Gen CoreA5-8250U, 8...   \n",
       "\n",
       "                       date  id  \n",
       "0  2021-10-26T19:00:24.925Z   1  \n",
       "1  2021-10-03T18:02:12.519Z   2  \n",
       "2  2022-03-02T21:42:06.848Z   3  \n",
       "3  2022-05-20T11:46:17.171Z   4  \n",
       "4  2021-09-02T04:01:05.365Z   5  "
      ]
     },
     "execution_count": 392,
     "metadata": {},
     "output_type": "execute_result"
    }
   ],
   "source": [
    "csv_dataframe.head()"
   ]
  },
  {
   "cell_type": "markdown",
   "id": "cf44b7bd",
   "metadata": {},
   "source": [
    "### Ordering columns"
   ]
  },
  {
   "cell_type": "code",
   "execution_count": 393,
   "id": "f4523ea8",
   "metadata": {},
   "outputs": [],
   "source": [
    "default_column_order = ['id', 'name', 'nombre', 'NAME', 'description', 'price', 'date', 'brand']\n",
    "url_dataframe = url_dataframe.reindex(columns= default_column_order)"
   ]
  },
  {
   "cell_type": "code",
   "execution_count": 394,
   "id": "3a0b509e",
   "metadata": {},
   "outputs": [],
   "source": [
    "default_column_order = ['id', 'name', 'description', 'price', 'date']\n",
    "csv_dataframe = csv_dataframe.reindex(columns= default_column_order)"
   ]
  },
  {
   "cell_type": "markdown",
   "id": "678c6183",
   "metadata": {},
   "source": [
    "### Concatenating Dataframes"
   ]
  },
  {
   "cell_type": "code",
   "execution_count": 395,
   "id": "64091f3c",
   "metadata": {
    "scrolled": false
   },
   "outputs": [
    {
     "name": "stdout",
     "output_type": "stream",
     "text": [
      "url_dataframe rows & columns:(62, 8)\n",
      "csv_dataframe rows & columns:(10, 5)\n",
      "Sales_dataframe rows & columns:(72, 8)\n"
     ]
    },
    {
     "data": {
      "text/html": [
       "<div>\n",
       "<style scoped>\n",
       "    .dataframe tbody tr th:only-of-type {\n",
       "        vertical-align: middle;\n",
       "    }\n",
       "\n",
       "    .dataframe tbody tr th {\n",
       "        vertical-align: top;\n",
       "    }\n",
       "\n",
       "    .dataframe thead th {\n",
       "        text-align: right;\n",
       "    }\n",
       "</style>\n",
       "<table border=\"1\" class=\"dataframe\">\n",
       "  <thead>\n",
       "    <tr style=\"text-align: right;\">\n",
       "      <th></th>\n",
       "      <th>id</th>\n",
       "      <th>name</th>\n",
       "      <th>nombre</th>\n",
       "      <th>NAME</th>\n",
       "      <th>description</th>\n",
       "      <th>price</th>\n",
       "      <th>date</th>\n",
       "      <th>brand</th>\n",
       "    </tr>\n",
       "  </thead>\n",
       "  <tbody>\n",
       "    <tr>\n",
       "      <th>71</th>\n",
       "      <td>10</td>\n",
       "      <td>Bike</td>\n",
       "      <td>NaN</td>\n",
       "      <td>NaN</td>\n",
       "      <td>The Football Is Good For Training And Recreati...</td>\n",
       "      <td>504.0</td>\n",
       "      <td>2021-11-17T05:18:05.217Z</td>\n",
       "      <td>NaN</td>\n",
       "    </tr>\n",
       "  </tbody>\n",
       "</table>\n",
       "</div>"
      ],
      "text/plain": [
       "    id  name nombre NAME                                        description  \\\n",
       "71  10  Bike    NaN  NaN  The Football Is Good For Training And Recreati...   \n",
       "\n",
       "    price                      date brand  \n",
       "71  504.0  2021-11-17T05:18:05.217Z   NaN  "
      ]
     },
     "execution_count": 395,
     "metadata": {},
     "output_type": "execute_result"
    }
   ],
   "source": [
    "Sales_dataframe = pd.concat([url_dataframe, csv_dataframe],ignore_index=True)\n",
    "print('url_dataframe rows & columns:' + str(url_dataframe.shape))\n",
    "print('csv_dataframe rows & columns:' + str(csv_dataframe.shape))\n",
    "print('Sales_dataframe rows & columns:' + str(Ecommerce_dataframe.shape))\n",
    "Sales_dataframe.tail(1)"
   ]
  },
  {
   "cell_type": "markdown",
   "id": "f91387d5",
   "metadata": {},
   "source": [
    "#  TRANSFORM"
   ]
  },
  {
   "cell_type": "markdown",
   "id": "4adea42e",
   "metadata": {},
   "source": [
    "### Removing Unnecessary Columns"
   ]
  },
  {
   "cell_type": "code",
   "execution_count": 396,
   "id": "b8acd16d",
   "metadata": {
    "scrolled": true
   },
   "outputs": [
    {
     "data": {
      "text/plain": [
       "id              0\n",
       "name            0\n",
       "nombre         71\n",
       "NAME           71\n",
       "description     0\n",
       "price           0\n",
       "date            0\n",
       "brand          65\n",
       "dtype: int64"
      ]
     },
     "execution_count": 396,
     "metadata": {},
     "output_type": "execute_result"
    }
   ],
   "source": [
    "Sales_dataframe.isnull().sum()"
   ]
  },
  {
   "cell_type": "code",
   "execution_count": 397,
   "id": "3810a4d3",
   "metadata": {},
   "outputs": [
    {
     "data": {
      "text/plain": [
       "Int64Index([60], dtype='int64')"
      ]
     },
     "execution_count": 397,
     "metadata": {},
     "output_type": "execute_result"
    }
   ],
   "source": [
    "#Search for not nulls indexes\n",
    "Sales_dataframe.index[Sales_dataframe['nombre'].notnull()]"
   ]
  },
  {
   "cell_type": "code",
   "execution_count": 398,
   "id": "01aa14cd",
   "metadata": {},
   "outputs": [
    {
     "data": {
      "text/plain": [
       "Int64Index([61], dtype='int64')"
      ]
     },
     "execution_count": 398,
     "metadata": {},
     "output_type": "execute_result"
    }
   ],
   "source": [
    "Sales_dataframe.index[Sales_dataframe['NAME'].notnull()]"
   ]
  },
  {
   "cell_type": "code",
   "execution_count": 399,
   "id": "7655ab89",
   "metadata": {},
   "outputs": [
    {
     "data": {
      "text/html": [
       "<div>\n",
       "<style scoped>\n",
       "    .dataframe tbody tr th:only-of-type {\n",
       "        vertical-align: middle;\n",
       "    }\n",
       "\n",
       "    .dataframe tbody tr th {\n",
       "        vertical-align: top;\n",
       "    }\n",
       "\n",
       "    .dataframe thead th {\n",
       "        text-align: right;\n",
       "    }\n",
       "</style>\n",
       "<table border=\"1\" class=\"dataframe\">\n",
       "  <thead>\n",
       "    <tr style=\"text-align: right;\">\n",
       "      <th></th>\n",
       "      <th>id</th>\n",
       "      <th>name</th>\n",
       "      <th>nombre</th>\n",
       "      <th>NAME</th>\n",
       "      <th>description</th>\n",
       "      <th>price</th>\n",
       "      <th>date</th>\n",
       "      <th>brand</th>\n",
       "    </tr>\n",
       "  </thead>\n",
       "  <tbody>\n",
       "    <tr>\n",
       "      <th>60</th>\n",
       "      <td>61</td>\n",
       "      <td>Awesome Bronze Ball</td>\n",
       "      <td>charolzapato de</td>\n",
       "      <td>NaN</td>\n",
       "      <td>esto es un zapato de charol de tela bacano</td>\n",
       "      <td>50,000</td>\n",
       "      <td>2019-05-55 12:00 pm</td>\n",
       "      <td>hecha a mano</td>\n",
       "    </tr>\n",
       "  </tbody>\n",
       "</table>\n",
       "</div>"
      ],
      "text/plain": [
       "    id                 name            nombre NAME  \\\n",
       "60  61  Awesome Bronze Ball   charolzapato de  NaN   \n",
       "\n",
       "                                   description   price                 date  \\\n",
       "60  esto es un zapato de charol de tela bacano  50,000  2019-05-55 12:00 pm   \n",
       "\n",
       "           brand  \n",
       "60  hecha a mano  "
      ]
     },
     "execution_count": 399,
     "metadata": {},
     "output_type": "execute_result"
    }
   ],
   "source": [
    "Sales_dataframe[(Sales_dataframe.id == '61')]"
   ]
  },
  {
   "cell_type": "code",
   "execution_count": 400,
   "id": "8fcf84fd",
   "metadata": {},
   "outputs": [
    {
     "data": {
      "text/html": [
       "<div>\n",
       "<style scoped>\n",
       "    .dataframe tbody tr th:only-of-type {\n",
       "        vertical-align: middle;\n",
       "    }\n",
       "\n",
       "    .dataframe tbody tr th {\n",
       "        vertical-align: top;\n",
       "    }\n",
       "\n",
       "    .dataframe thead th {\n",
       "        text-align: right;\n",
       "    }\n",
       "</style>\n",
       "<table border=\"1\" class=\"dataframe\">\n",
       "  <thead>\n",
       "    <tr style=\"text-align: right;\">\n",
       "      <th></th>\n",
       "      <th>id</th>\n",
       "      <th>name</th>\n",
       "      <th>nombre</th>\n",
       "      <th>NAME</th>\n",
       "      <th>description</th>\n",
       "      <th>price</th>\n",
       "      <th>date</th>\n",
       "      <th>brand</th>\n",
       "    </tr>\n",
       "  </thead>\n",
       "  <tbody>\n",
       "    <tr>\n",
       "      <th>61</th>\n",
       "      <td>62</td>\n",
       "      <td>Tasty Granite Chips</td>\n",
       "      <td>NaN</td>\n",
       "      <td>buso</td>\n",
       "      <td>12343</td>\n",
       "      <td>70.00</td>\n",
       "      <td>2019-05-55 12:00 pm</td>\n",
       "      <td>offwhite</td>\n",
       "    </tr>\n",
       "  </tbody>\n",
       "</table>\n",
       "</div>"
      ],
      "text/plain": [
       "    id                 name nombre  NAME description  price  \\\n",
       "61  62  Tasty Granite Chips    NaN  buso       12343  70.00   \n",
       "\n",
       "                   date     brand  \n",
       "61  2019-05-55 12:00 pm  offwhite  "
      ]
     },
     "execution_count": 400,
     "metadata": {},
     "output_type": "execute_result"
    }
   ],
   "source": [
    "Sales_dataframe[(Sales_dataframe.id == '62')]"
   ]
  },
  {
   "cell_type": "markdown",
   "id": "bb881da5",
   "metadata": {},
   "source": [
    "### Replacing notna values from nombre and Name columns to name column"
   ]
  },
  {
   "cell_type": "code",
   "execution_count": 401,
   "id": "478c44a4",
   "metadata": {},
   "outputs": [],
   "source": [
    "nombre_notnull = Sales_dataframe['nombre'].values[60]"
   ]
  },
  {
   "cell_type": "code",
   "execution_count": 402,
   "id": "baa09d3a",
   "metadata": {},
   "outputs": [],
   "source": [
    "NAME_notnull = Sales_dataframe[\"NAME\"].values[61]"
   ]
  },
  {
   "cell_type": "code",
   "execution_count": 403,
   "id": "beb2a15a",
   "metadata": {},
   "outputs": [],
   "source": [
    "for x in range(len(Sales_dataframe.index)):\n",
    "    if pd.notna(Sales_dataframe['nombre'].values[x]):\n",
    "        Sales_dataframe['name'].values[x] = Sales_dataframe['name'].values[x].replace(str(Sales_dataframe['name'].values[x]),str(Sales_dataframe['nombre'].values[x]))\n",
    "    if pd.notna(Sales_dataframe['NAME'].values[x]):\n",
    "        Sales_dataframe['name'].values[x] = Sales_dataframe['name'].values[x].replace(str(Sales_dataframe['name'].values[x]),str(Sales_dataframe['NAME'].values[x]))"
   ]
  },
  {
   "cell_type": "code",
   "execution_count": 404,
   "id": "efe869ee",
   "metadata": {},
   "outputs": [
    {
     "data": {
      "text/html": [
       "<div>\n",
       "<style scoped>\n",
       "    .dataframe tbody tr th:only-of-type {\n",
       "        vertical-align: middle;\n",
       "    }\n",
       "\n",
       "    .dataframe tbody tr th {\n",
       "        vertical-align: top;\n",
       "    }\n",
       "\n",
       "    .dataframe thead th {\n",
       "        text-align: right;\n",
       "    }\n",
       "</style>\n",
       "<table border=\"1\" class=\"dataframe\">\n",
       "  <thead>\n",
       "    <tr style=\"text-align: right;\">\n",
       "      <th></th>\n",
       "      <th>id</th>\n",
       "      <th>name</th>\n",
       "      <th>nombre</th>\n",
       "      <th>NAME</th>\n",
       "      <th>description</th>\n",
       "      <th>price</th>\n",
       "      <th>date</th>\n",
       "      <th>brand</th>\n",
       "    </tr>\n",
       "  </thead>\n",
       "  <tbody>\n",
       "    <tr>\n",
       "      <th>60</th>\n",
       "      <td>61</td>\n",
       "      <td>charolzapato de</td>\n",
       "      <td>charolzapato de</td>\n",
       "      <td>NaN</td>\n",
       "      <td>esto es un zapato de charol de tela bacano</td>\n",
       "      <td>50,000</td>\n",
       "      <td>2019-05-55 12:00 pm</td>\n",
       "      <td>hecha a mano</td>\n",
       "    </tr>\n",
       "    <tr>\n",
       "      <th>61</th>\n",
       "      <td>62</td>\n",
       "      <td>buso</td>\n",
       "      <td>NaN</td>\n",
       "      <td>buso</td>\n",
       "      <td>12343</td>\n",
       "      <td>70.00</td>\n",
       "      <td>2019-05-55 12:00 pm</td>\n",
       "      <td>offwhite</td>\n",
       "    </tr>\n",
       "  </tbody>\n",
       "</table>\n",
       "</div>"
      ],
      "text/plain": [
       "    id              name            nombre  NAME  \\\n",
       "60  61   charolzapato de   charolzapato de   NaN   \n",
       "61  62              buso               NaN  buso   \n",
       "\n",
       "                                   description   price                 date  \\\n",
       "60  esto es un zapato de charol de tela bacano  50,000  2019-05-55 12:00 pm   \n",
       "61                                       12343   70.00  2019-05-55 12:00 pm   \n",
       "\n",
       "           brand  \n",
       "60  hecha a mano  \n",
       "61      offwhite  "
      ]
     },
     "execution_count": 404,
     "metadata": {},
     "output_type": "execute_result"
    }
   ],
   "source": [
    "Sales_dataframe[(Sales_dataframe.id == '61')|(Sales_dataframe.id == '62')]"
   ]
  },
  {
   "cell_type": "markdown",
   "id": "3a2c8c8d",
   "metadata": {},
   "source": [
    "### Deleting nombre and NAME column"
   ]
  },
  {
   "cell_type": "code",
   "execution_count": 405,
   "id": "47461e30",
   "metadata": {
    "scrolled": true
   },
   "outputs": [],
   "source": [
    "Sales_dataframe = Sales_dataframe.drop(['nombre','NAME'], axis=1)"
   ]
  },
  {
   "cell_type": "code",
   "execution_count": 406,
   "id": "84641daf",
   "metadata": {},
   "outputs": [
    {
     "data": {
      "text/plain": [
       "['id', 'name', 'description', 'price', 'date', 'brand']"
      ]
     },
     "execution_count": 406,
     "metadata": {},
     "output_type": "execute_result"
    }
   ],
   "source": [
    "list(Sales_dataframe.columns)"
   ]
  },
  {
   "cell_type": "markdown",
   "id": "04675f05",
   "metadata": {},
   "source": [
    "### Replacing NaN for 'No Brand' in brand column"
   ]
  },
  {
   "cell_type": "code",
   "execution_count": 407,
   "id": "b7dbe469",
   "metadata": {},
   "outputs": [],
   "source": [
    "Sales_dataframe[\"brand\"]=Sales_dataframe[\"brand\"].fillna('No Brand')"
   ]
  },
  {
   "cell_type": "markdown",
   "id": "abbc9a0d",
   "metadata": {},
   "source": [
    "### Checking for mistakes in price column"
   ]
  },
  {
   "cell_type": "code",
   "execution_count": 408,
   "id": "720c8b92",
   "metadata": {},
   "outputs": [
    {
     "data": {
      "text/html": [
       "<div>\n",
       "<style scoped>\n",
       "    .dataframe tbody tr th:only-of-type {\n",
       "        vertical-align: middle;\n",
       "    }\n",
       "\n",
       "    .dataframe tbody tr th {\n",
       "        vertical-align: top;\n",
       "    }\n",
       "\n",
       "    .dataframe thead th {\n",
       "        text-align: right;\n",
       "    }\n",
       "</style>\n",
       "<table border=\"1\" class=\"dataframe\">\n",
       "  <thead>\n",
       "    <tr style=\"text-align: right;\">\n",
       "      <th></th>\n",
       "      <th>id</th>\n",
       "      <th>name</th>\n",
       "      <th>description</th>\n",
       "      <th>price</th>\n",
       "      <th>date</th>\n",
       "      <th>brand</th>\n",
       "    </tr>\n",
       "  </thead>\n",
       "  <tbody>\n",
       "    <tr>\n",
       "      <th>51</th>\n",
       "      <td>52</td>\n",
       "      <td>gorra</td>\n",
       "      <td>esto es una gorra bacana</td>\n",
       "      <td>15,000</td>\n",
       "      <td>2022-05-15</td>\n",
       "      <td>No Brand</td>\n",
       "    </tr>\n",
       "    <tr>\n",
       "      <th>52</th>\n",
       "      <td>53</td>\n",
       "      <td>pantalon</td>\n",
       "      <td>esto es una pantalon bacano</td>\n",
       "      <td>$15,000</td>\n",
       "      <td>2022-05-15</td>\n",
       "      <td>No Brand</td>\n",
       "    </tr>\n",
       "    <tr>\n",
       "      <th>53</th>\n",
       "      <td>54</td>\n",
       "      <td>chancla</td>\n",
       "      <td>esto es una chancla bacano</td>\n",
       "      <td>e 15,000</td>\n",
       "      <td>2021/05/15</td>\n",
       "      <td>No Brand</td>\n",
       "    </tr>\n",
       "    <tr>\n",
       "      <th>57</th>\n",
       "      <td>58</td>\n",
       "      <td>blue jacket</td>\n",
       "      <td>esto es una chancla bacano</td>\n",
       "      <td>$ 50,000</td>\n",
       "      <td>2021/05/15 12:00 pm</td>\n",
       "      <td>aeropostal</td>\n",
       "    </tr>\n",
       "    <tr>\n",
       "      <th>58</th>\n",
       "      <td>59</td>\n",
       "      <td>ruana</td>\n",
       "      <td>esto es una chancla bacano</td>\n",
       "      <td>$  15,000</td>\n",
       "      <td>2019-05-55 12:00 pm</td>\n",
       "      <td>aeropostal</td>\n",
       "    </tr>\n",
       "    <tr>\n",
       "      <th>59</th>\n",
       "      <td>60</td>\n",
       "      <td>ruana de tela</td>\n",
       "      <td>esto es una ruana de tela bacano</td>\n",
       "      <td>45,00</td>\n",
       "      <td>2019-05-55 12:00 pm</td>\n",
       "      <td>hecha a mano</td>\n",
       "    </tr>\n",
       "    <tr>\n",
       "      <th>60</th>\n",
       "      <td>61</td>\n",
       "      <td>charolzapato de</td>\n",
       "      <td>esto es un zapato de charol de tela bacano</td>\n",
       "      <td>50,000</td>\n",
       "      <td>2019-05-55 12:00 pm</td>\n",
       "      <td>hecha a mano</td>\n",
       "    </tr>\n",
       "  </tbody>\n",
       "</table>\n",
       "</div>"
      ],
      "text/plain": [
       "    id              name                                 description  \\\n",
       "51  52             gorra                    esto es una gorra bacana   \n",
       "52  53          pantalon                 esto es una pantalon bacano   \n",
       "53  54           chancla                  esto es una chancla bacano   \n",
       "57  58       blue jacket                  esto es una chancla bacano   \n",
       "58  59             ruana                  esto es una chancla bacano   \n",
       "59  60     ruana de tela            esto es una ruana de tela bacano   \n",
       "60  61   charolzapato de  esto es un zapato de charol de tela bacano   \n",
       "\n",
       "        price                 date         brand  \n",
       "51     15,000           2022-05-15      No Brand  \n",
       "52    $15,000           2022-05-15      No Brand  \n",
       "53   e 15,000           2021/05/15      No Brand  \n",
       "57   $ 50,000  2021/05/15 12:00 pm    aeropostal  \n",
       "58  $  15,000  2019-05-55 12:00 pm    aeropostal  \n",
       "59      45,00  2019-05-55 12:00 pm  hecha a mano  \n",
       "60     50,000  2019-05-55 12:00 pm  hecha a mano  "
      ]
     },
     "execution_count": 408,
     "metadata": {},
     "output_type": "execute_result"
    }
   ],
   "source": [
    "Sales_dataframe[Sales_dataframe['price'].str.contains(',', na=False)]"
   ]
  },
  {
   "cell_type": "markdown",
   "id": "8feca519",
   "metadata": {},
   "source": [
    "### Fixing mistakes"
   ]
  },
  {
   "cell_type": "code",
   "execution_count": 409,
   "id": "21cdf40e",
   "metadata": {},
   "outputs": [
    {
     "name": "stderr",
     "output_type": "stream",
     "text": [
      "C:\\Users\\lizme\\AppData\\Local\\Temp\\ipykernel_11832\\193647780.py:3: FutureWarning: The default value of regex will change from True to False in a future version. In addition, single character regular expressions will *not* be treated as literal strings when regex=True.\n",
      "  Sales_dataframe[\"price\"]=Sales_dataframe[\"price\"].str.replace(\"$\", \"\")\n"
     ]
    }
   ],
   "source": [
    "Sales_dataframe[\"price\"]=Sales_dataframe[\"price\"].astype(str).str.replace(\",\", \".\")\n",
    "Sales_dataframe[\"price\"]=Sales_dataframe[\"price\"].str.replace(\"€\", \"\")\n",
    "Sales_dataframe[\"price\"]=Sales_dataframe[\"price\"].str.replace(\"$\", \"\")\n",
    "Sales_dataframe[\"price\"]=Sales_dataframe[\"price\"].str.replace(\"e\", \"\")\n",
    "Sales_dataframe[\"price\"]=Sales_dataframe[\"price\"].str.replace(\" \", \"\")"
   ]
  },
  {
   "cell_type": "code",
   "execution_count": 410,
   "id": "3eb511d0",
   "metadata": {},
   "outputs": [
    {
     "data": {
      "text/html": [
       "<div>\n",
       "<style scoped>\n",
       "    .dataframe tbody tr th:only-of-type {\n",
       "        vertical-align: middle;\n",
       "    }\n",
       "\n",
       "    .dataframe tbody tr th {\n",
       "        vertical-align: top;\n",
       "    }\n",
       "\n",
       "    .dataframe thead th {\n",
       "        text-align: right;\n",
       "    }\n",
       "</style>\n",
       "<table border=\"1\" class=\"dataframe\">\n",
       "  <thead>\n",
       "    <tr style=\"text-align: right;\">\n",
       "      <th></th>\n",
       "      <th>id</th>\n",
       "      <th>name</th>\n",
       "      <th>description</th>\n",
       "      <th>price</th>\n",
       "      <th>date</th>\n",
       "      <th>brand</th>\n",
       "    </tr>\n",
       "  </thead>\n",
       "  <tbody>\n",
       "  </tbody>\n",
       "</table>\n",
       "</div>"
      ],
      "text/plain": [
       "Empty DataFrame\n",
       "Columns: [id, name, description, price, date, brand]\n",
       "Index: []"
      ]
     },
     "execution_count": 410,
     "metadata": {},
     "output_type": "execute_result"
    }
   ],
   "source": [
    "Sales_dataframe[Sales_dataframe['price'].str.contains(',', na=False)]\n",
    "Sales_dataframe[Sales_dataframe['price'].str.contains('€', na=False)]\n",
    "Sales_dataframe[Sales_dataframe['price'].str.contains('$', na=False)]\n",
    "Sales_dataframe[Sales_dataframe['price'].str.contains('e', na=False)]\n",
    "Sales_dataframe[Sales_dataframe['price'].str.contains(' ', na=False)]"
   ]
  },
  {
   "cell_type": "markdown",
   "id": "71a94d4b",
   "metadata": {},
   "source": [
    "### Deleting dates out of range"
   ]
  },
  {
   "cell_type": "code",
   "execution_count": 411,
   "id": "52627721",
   "metadata": {},
   "outputs": [
    {
     "data": {
      "text/html": [
       "<div>\n",
       "<style scoped>\n",
       "    .dataframe tbody tr th:only-of-type {\n",
       "        vertical-align: middle;\n",
       "    }\n",
       "\n",
       "    .dataframe tbody tr th {\n",
       "        vertical-align: top;\n",
       "    }\n",
       "\n",
       "    .dataframe thead th {\n",
       "        text-align: right;\n",
       "    }\n",
       "</style>\n",
       "<table border=\"1\" class=\"dataframe\">\n",
       "  <thead>\n",
       "    <tr style=\"text-align: right;\">\n",
       "      <th></th>\n",
       "      <th>id</th>\n",
       "      <th>name</th>\n",
       "      <th>description</th>\n",
       "      <th>price</th>\n",
       "      <th>date</th>\n",
       "      <th>brand</th>\n",
       "    </tr>\n",
       "  </thead>\n",
       "  <tbody>\n",
       "    <tr>\n",
       "      <th>58</th>\n",
       "      <td>59</td>\n",
       "      <td>ruana</td>\n",
       "      <td>esto es una chancla bacano</td>\n",
       "      <td>15.000</td>\n",
       "      <td>2019-05-55 12:00 pm</td>\n",
       "      <td>aeropostal</td>\n",
       "    </tr>\n",
       "    <tr>\n",
       "      <th>59</th>\n",
       "      <td>60</td>\n",
       "      <td>ruana de tela</td>\n",
       "      <td>esto es una ruana de tela bacano</td>\n",
       "      <td>45.00</td>\n",
       "      <td>2019-05-55 12:00 pm</td>\n",
       "      <td>hecha a mano</td>\n",
       "    </tr>\n",
       "    <tr>\n",
       "      <th>60</th>\n",
       "      <td>61</td>\n",
       "      <td>charolzapato de</td>\n",
       "      <td>esto es un zapato de charol de tela bacano</td>\n",
       "      <td>50.000</td>\n",
       "      <td>2019-05-55 12:00 pm</td>\n",
       "      <td>hecha a mano</td>\n",
       "    </tr>\n",
       "    <tr>\n",
       "      <th>61</th>\n",
       "      <td>62</td>\n",
       "      <td>buso</td>\n",
       "      <td>12343</td>\n",
       "      <td>70.00</td>\n",
       "      <td>2019-05-55 12:00 pm</td>\n",
       "      <td>offwhite</td>\n",
       "    </tr>\n",
       "  </tbody>\n",
       "</table>\n",
       "</div>"
      ],
      "text/plain": [
       "    id              name                                 description   price  \\\n",
       "58  59             ruana                  esto es una chancla bacano  15.000   \n",
       "59  60     ruana de tela            esto es una ruana de tela bacano   45.00   \n",
       "60  61   charolzapato de  esto es un zapato de charol de tela bacano  50.000   \n",
       "61  62              buso                                       12343   70.00   \n",
       "\n",
       "                   date         brand  \n",
       "58  2019-05-55 12:00 pm    aeropostal  \n",
       "59  2019-05-55 12:00 pm  hecha a mano  \n",
       "60  2019-05-55 12:00 pm  hecha a mano  \n",
       "61  2019-05-55 12:00 pm      offwhite  "
      ]
     },
     "execution_count": 411,
     "metadata": {},
     "output_type": "execute_result"
    }
   ],
   "source": [
    "Sales_dataframe[Sales_dataframe['date'].str.contains('2019-05-55 12:00 pm', na=False)]"
   ]
  },
  {
   "cell_type": "code",
   "execution_count": 412,
   "id": "4808be42",
   "metadata": {},
   "outputs": [],
   "source": [
    "Sales_dataframe.drop([58,59,60,61], axis=0, inplace=True)"
   ]
  },
  {
   "cell_type": "markdown",
   "id": "ade12f3b",
   "metadata": {},
   "source": [
    "### Standarize date column"
   ]
  },
  {
   "cell_type": "code",
   "execution_count": 413,
   "id": "7e5ef0bf",
   "metadata": {},
   "outputs": [
    {
     "data": {
      "text/plain": [
       "id             object\n",
       "name           object\n",
       "description    object\n",
       "price          object\n",
       "date           object\n",
       "brand          object\n",
       "dtype: object"
      ]
     },
     "execution_count": 413,
     "metadata": {},
     "output_type": "execute_result"
    }
   ],
   "source": [
    "Sales_dataframe.dtypes"
   ]
  },
  {
   "cell_type": "code",
   "execution_count": 414,
   "id": "f161ec4e",
   "metadata": {},
   "outputs": [],
   "source": [
    "Sales_dataframe['date'] = pd.to_datetime(Sales_dataframe['date'])\n",
    "Sales_dataframe['date'] = pd.to_datetime(Sales_dataframe['date'], utc=True, format='%Y-%m-%d')\n",
    "Sales_dataframe['date'] = Sales_dataframe['date'].dt.date"
   ]
  },
  {
   "cell_type": "code",
   "execution_count": 415,
   "id": "de6ceb8a",
   "metadata": {},
   "outputs": [
    {
     "data": {
      "text/html": [
       "<div>\n",
       "<style scoped>\n",
       "    .dataframe tbody tr th:only-of-type {\n",
       "        vertical-align: middle;\n",
       "    }\n",
       "\n",
       "    .dataframe tbody tr th {\n",
       "        vertical-align: top;\n",
       "    }\n",
       "\n",
       "    .dataframe thead th {\n",
       "        text-align: right;\n",
       "    }\n",
       "</style>\n",
       "<table border=\"1\" class=\"dataframe\">\n",
       "  <thead>\n",
       "    <tr style=\"text-align: right;\">\n",
       "      <th></th>\n",
       "      <th>id</th>\n",
       "      <th>name</th>\n",
       "      <th>description</th>\n",
       "      <th>price</th>\n",
       "      <th>date</th>\n",
       "      <th>brand</th>\n",
       "    </tr>\n",
       "  </thead>\n",
       "  <tbody>\n",
       "    <tr>\n",
       "      <th>0</th>\n",
       "      <td>1</td>\n",
       "      <td>Handcrafted Bronze Car</td>\n",
       "      <td>New range of formal shirts are designed keepin...</td>\n",
       "      <td>837.00</td>\n",
       "      <td>2022-05-22</td>\n",
       "      <td>No Brand</td>\n",
       "    </tr>\n",
       "    <tr>\n",
       "      <th>1</th>\n",
       "      <td>2</td>\n",
       "      <td>Recycled Fresh Ball</td>\n",
       "      <td>The Football Is Good For Training And Recreati...</td>\n",
       "      <td>906.00</td>\n",
       "      <td>2022-05-21</td>\n",
       "      <td>No Brand</td>\n",
       "    </tr>\n",
       "    <tr>\n",
       "      <th>2</th>\n",
       "      <td>3</td>\n",
       "      <td>Recycled Rubber Bike</td>\n",
       "      <td>The automobile layout consists of a front-engi...</td>\n",
       "      <td>547.00</td>\n",
       "      <td>2022-05-22</td>\n",
       "      <td>No Brand</td>\n",
       "    </tr>\n",
       "    <tr>\n",
       "      <th>3</th>\n",
       "      <td>4</td>\n",
       "      <td>Rustic Wooden Computer</td>\n",
       "      <td>The Football Is Good For Training And Recreati...</td>\n",
       "      <td>129.00</td>\n",
       "      <td>2022-05-22</td>\n",
       "      <td>No Brand</td>\n",
       "    </tr>\n",
       "    <tr>\n",
       "      <th>4</th>\n",
       "      <td>5</td>\n",
       "      <td>Sleek Wooden Chicken</td>\n",
       "      <td>Carbonite web goalkeeper gloves are ergonomica...</td>\n",
       "      <td>58.00</td>\n",
       "      <td>2022-05-22</td>\n",
       "      <td>No Brand</td>\n",
       "    </tr>\n",
       "  </tbody>\n",
       "</table>\n",
       "</div>"
      ],
      "text/plain": [
       "  id                    name  \\\n",
       "0  1  Handcrafted Bronze Car   \n",
       "1  2     Recycled Fresh Ball   \n",
       "2  3    Recycled Rubber Bike   \n",
       "3  4  Rustic Wooden Computer   \n",
       "4  5    Sleek Wooden Chicken   \n",
       "\n",
       "                                         description   price        date  \\\n",
       "0  New range of formal shirts are designed keepin...  837.00  2022-05-22   \n",
       "1  The Football Is Good For Training And Recreati...  906.00  2022-05-21   \n",
       "2  The automobile layout consists of a front-engi...  547.00  2022-05-22   \n",
       "3  The Football Is Good For Training And Recreati...  129.00  2022-05-22   \n",
       "4  Carbonite web goalkeeper gloves are ergonomica...   58.00  2022-05-22   \n",
       "\n",
       "      brand  \n",
       "0  No Brand  \n",
       "1  No Brand  \n",
       "2  No Brand  \n",
       "3  No Brand  \n",
       "4  No Brand  "
      ]
     },
     "execution_count": 415,
     "metadata": {},
     "output_type": "execute_result"
    }
   ],
   "source": [
    "Sales_dataframe.head(5)"
   ]
  },
  {
   "cell_type": "markdown",
   "id": "8cb10d41",
   "metadata": {},
   "source": [
    "### Fixing Index"
   ]
  },
  {
   "cell_type": "code",
   "execution_count": 416,
   "id": "ac856564",
   "metadata": {},
   "outputs": [],
   "source": [
    "Sales_dataframe = Sales_dataframe.reset_index(drop=True)\n",
    "for i in Sales_dataframe.index:\n",
    "    Sales_dataframe[\"id\"][i]=i+1\n",
    "    i+=1"
   ]
  },
  {
   "cell_type": "code",
   "execution_count": 417,
   "id": "ae29177f",
   "metadata": {},
   "outputs": [],
   "source": [
    "Sales_dataframe = Sales_dataframe.reset_index(drop=True)"
   ]
  },
  {
   "cell_type": "markdown",
   "id": "64550274",
   "metadata": {},
   "source": [
    "# LOAD"
   ]
  },
  {
   "cell_type": "code",
   "execution_count": 421,
   "id": "3e3c3093",
   "metadata": {},
   "outputs": [
    {
     "ename": "PermissionError",
     "evalue": "[Errno 13] Permission denied: 'C:\\\\Academic Projects\\\\Sales ETL Project'",
     "output_type": "error",
     "traceback": [
      "\u001b[1;31m---------------------------------------------------------------------------\u001b[0m",
      "\u001b[1;31mPermissionError\u001b[0m                           Traceback (most recent call last)",
      "Input \u001b[1;32mIn [421]\u001b[0m, in \u001b[0;36m<cell line: 1>\u001b[1;34m()\u001b[0m\n\u001b[1;32m----> 1\u001b[0m \u001b[43mSales_dataframe\u001b[49m\u001b[38;5;241;43m.\u001b[39;49m\u001b[43mto_csv\u001b[49m\u001b[43m(\u001b[49m\u001b[43mcurrent_directory\u001b[49m\u001b[43m)\u001b[49m\n",
      "File \u001b[1;32m~\\AppData\\Local\\Programs\\Python\\Python310\\lib\\site-packages\\pandas\\core\\generic.py:3551\u001b[0m, in \u001b[0;36mNDFrame.to_csv\u001b[1;34m(self, path_or_buf, sep, na_rep, float_format, columns, header, index, index_label, mode, encoding, compression, quoting, quotechar, line_terminator, chunksize, date_format, doublequote, escapechar, decimal, errors, storage_options)\u001b[0m\n\u001b[0;32m   3540\u001b[0m df \u001b[38;5;241m=\u001b[39m \u001b[38;5;28mself\u001b[39m \u001b[38;5;28;01mif\u001b[39;00m \u001b[38;5;28misinstance\u001b[39m(\u001b[38;5;28mself\u001b[39m, ABCDataFrame) \u001b[38;5;28;01melse\u001b[39;00m \u001b[38;5;28mself\u001b[39m\u001b[38;5;241m.\u001b[39mto_frame()\n\u001b[0;32m   3542\u001b[0m formatter \u001b[38;5;241m=\u001b[39m DataFrameFormatter(\n\u001b[0;32m   3543\u001b[0m     frame\u001b[38;5;241m=\u001b[39mdf,\n\u001b[0;32m   3544\u001b[0m     header\u001b[38;5;241m=\u001b[39mheader,\n\u001b[1;32m   (...)\u001b[0m\n\u001b[0;32m   3548\u001b[0m     decimal\u001b[38;5;241m=\u001b[39mdecimal,\n\u001b[0;32m   3549\u001b[0m )\n\u001b[1;32m-> 3551\u001b[0m \u001b[38;5;28;01mreturn\u001b[39;00m \u001b[43mDataFrameRenderer\u001b[49m\u001b[43m(\u001b[49m\u001b[43mformatter\u001b[49m\u001b[43m)\u001b[49m\u001b[38;5;241;43m.\u001b[39;49m\u001b[43mto_csv\u001b[49m\u001b[43m(\u001b[49m\n\u001b[0;32m   3552\u001b[0m \u001b[43m    \u001b[49m\u001b[43mpath_or_buf\u001b[49m\u001b[43m,\u001b[49m\n\u001b[0;32m   3553\u001b[0m \u001b[43m    \u001b[49m\u001b[43mline_terminator\u001b[49m\u001b[38;5;241;43m=\u001b[39;49m\u001b[43mline_terminator\u001b[49m\u001b[43m,\u001b[49m\n\u001b[0;32m   3554\u001b[0m \u001b[43m    \u001b[49m\u001b[43msep\u001b[49m\u001b[38;5;241;43m=\u001b[39;49m\u001b[43msep\u001b[49m\u001b[43m,\u001b[49m\n\u001b[0;32m   3555\u001b[0m \u001b[43m    \u001b[49m\u001b[43mencoding\u001b[49m\u001b[38;5;241;43m=\u001b[39;49m\u001b[43mencoding\u001b[49m\u001b[43m,\u001b[49m\n\u001b[0;32m   3556\u001b[0m \u001b[43m    \u001b[49m\u001b[43merrors\u001b[49m\u001b[38;5;241;43m=\u001b[39;49m\u001b[43merrors\u001b[49m\u001b[43m,\u001b[49m\n\u001b[0;32m   3557\u001b[0m \u001b[43m    \u001b[49m\u001b[43mcompression\u001b[49m\u001b[38;5;241;43m=\u001b[39;49m\u001b[43mcompression\u001b[49m\u001b[43m,\u001b[49m\n\u001b[0;32m   3558\u001b[0m \u001b[43m    \u001b[49m\u001b[43mquoting\u001b[49m\u001b[38;5;241;43m=\u001b[39;49m\u001b[43mquoting\u001b[49m\u001b[43m,\u001b[49m\n\u001b[0;32m   3559\u001b[0m \u001b[43m    \u001b[49m\u001b[43mcolumns\u001b[49m\u001b[38;5;241;43m=\u001b[39;49m\u001b[43mcolumns\u001b[49m\u001b[43m,\u001b[49m\n\u001b[0;32m   3560\u001b[0m \u001b[43m    \u001b[49m\u001b[43mindex_label\u001b[49m\u001b[38;5;241;43m=\u001b[39;49m\u001b[43mindex_label\u001b[49m\u001b[43m,\u001b[49m\n\u001b[0;32m   3561\u001b[0m \u001b[43m    \u001b[49m\u001b[43mmode\u001b[49m\u001b[38;5;241;43m=\u001b[39;49m\u001b[43mmode\u001b[49m\u001b[43m,\u001b[49m\n\u001b[0;32m   3562\u001b[0m \u001b[43m    \u001b[49m\u001b[43mchunksize\u001b[49m\u001b[38;5;241;43m=\u001b[39;49m\u001b[43mchunksize\u001b[49m\u001b[43m,\u001b[49m\n\u001b[0;32m   3563\u001b[0m \u001b[43m    \u001b[49m\u001b[43mquotechar\u001b[49m\u001b[38;5;241;43m=\u001b[39;49m\u001b[43mquotechar\u001b[49m\u001b[43m,\u001b[49m\n\u001b[0;32m   3564\u001b[0m \u001b[43m    \u001b[49m\u001b[43mdate_format\u001b[49m\u001b[38;5;241;43m=\u001b[39;49m\u001b[43mdate_format\u001b[49m\u001b[43m,\u001b[49m\n\u001b[0;32m   3565\u001b[0m \u001b[43m    \u001b[49m\u001b[43mdoublequote\u001b[49m\u001b[38;5;241;43m=\u001b[39;49m\u001b[43mdoublequote\u001b[49m\u001b[43m,\u001b[49m\n\u001b[0;32m   3566\u001b[0m \u001b[43m    \u001b[49m\u001b[43mescapechar\u001b[49m\u001b[38;5;241;43m=\u001b[39;49m\u001b[43mescapechar\u001b[49m\u001b[43m,\u001b[49m\n\u001b[0;32m   3567\u001b[0m \u001b[43m    \u001b[49m\u001b[43mstorage_options\u001b[49m\u001b[38;5;241;43m=\u001b[39;49m\u001b[43mstorage_options\u001b[49m\u001b[43m,\u001b[49m\n\u001b[0;32m   3568\u001b[0m \u001b[43m\u001b[49m\u001b[43m)\u001b[49m\n",
      "File \u001b[1;32m~\\AppData\\Local\\Programs\\Python\\Python310\\lib\\site-packages\\pandas\\io\\formats\\format.py:1180\u001b[0m, in \u001b[0;36mDataFrameRenderer.to_csv\u001b[1;34m(self, path_or_buf, encoding, sep, columns, index_label, mode, compression, quoting, quotechar, line_terminator, chunksize, date_format, doublequote, escapechar, errors, storage_options)\u001b[0m\n\u001b[0;32m   1159\u001b[0m     created_buffer \u001b[38;5;241m=\u001b[39m \u001b[38;5;28;01mFalse\u001b[39;00m\n\u001b[0;32m   1161\u001b[0m csv_formatter \u001b[38;5;241m=\u001b[39m CSVFormatter(\n\u001b[0;32m   1162\u001b[0m     path_or_buf\u001b[38;5;241m=\u001b[39mpath_or_buf,\n\u001b[0;32m   1163\u001b[0m     line_terminator\u001b[38;5;241m=\u001b[39mline_terminator,\n\u001b[1;32m   (...)\u001b[0m\n\u001b[0;32m   1178\u001b[0m     formatter\u001b[38;5;241m=\u001b[39m\u001b[38;5;28mself\u001b[39m\u001b[38;5;241m.\u001b[39mfmt,\n\u001b[0;32m   1179\u001b[0m )\n\u001b[1;32m-> 1180\u001b[0m \u001b[43mcsv_formatter\u001b[49m\u001b[38;5;241;43m.\u001b[39;49m\u001b[43msave\u001b[49m\u001b[43m(\u001b[49m\u001b[43m)\u001b[49m\n\u001b[0;32m   1182\u001b[0m \u001b[38;5;28;01mif\u001b[39;00m created_buffer:\n\u001b[0;32m   1183\u001b[0m     \u001b[38;5;28;01massert\u001b[39;00m \u001b[38;5;28misinstance\u001b[39m(path_or_buf, StringIO)\n",
      "File \u001b[1;32m~\\AppData\\Local\\Programs\\Python\\Python310\\lib\\site-packages\\pandas\\io\\formats\\csvs.py:241\u001b[0m, in \u001b[0;36mCSVFormatter.save\u001b[1;34m(self)\u001b[0m\n\u001b[0;32m    237\u001b[0m \u001b[38;5;124;03m\"\"\"\u001b[39;00m\n\u001b[0;32m    238\u001b[0m \u001b[38;5;124;03mCreate the writer & save.\u001b[39;00m\n\u001b[0;32m    239\u001b[0m \u001b[38;5;124;03m\"\"\"\u001b[39;00m\n\u001b[0;32m    240\u001b[0m \u001b[38;5;66;03m# apply compression and byte/text conversion\u001b[39;00m\n\u001b[1;32m--> 241\u001b[0m \u001b[38;5;28;01mwith\u001b[39;00m \u001b[43mget_handle\u001b[49m\u001b[43m(\u001b[49m\n\u001b[0;32m    242\u001b[0m \u001b[43m    \u001b[49m\u001b[38;5;28;43mself\u001b[39;49m\u001b[38;5;241;43m.\u001b[39;49m\u001b[43mfilepath_or_buffer\u001b[49m\u001b[43m,\u001b[49m\n\u001b[0;32m    243\u001b[0m \u001b[43m    \u001b[49m\u001b[38;5;28;43mself\u001b[39;49m\u001b[38;5;241;43m.\u001b[39;49m\u001b[43mmode\u001b[49m\u001b[43m,\u001b[49m\n\u001b[0;32m    244\u001b[0m \u001b[43m    \u001b[49m\u001b[43mencoding\u001b[49m\u001b[38;5;241;43m=\u001b[39;49m\u001b[38;5;28;43mself\u001b[39;49m\u001b[38;5;241;43m.\u001b[39;49m\u001b[43mencoding\u001b[49m\u001b[43m,\u001b[49m\n\u001b[0;32m    245\u001b[0m \u001b[43m    \u001b[49m\u001b[43merrors\u001b[49m\u001b[38;5;241;43m=\u001b[39;49m\u001b[38;5;28;43mself\u001b[39;49m\u001b[38;5;241;43m.\u001b[39;49m\u001b[43merrors\u001b[49m\u001b[43m,\u001b[49m\n\u001b[0;32m    246\u001b[0m \u001b[43m    \u001b[49m\u001b[43mcompression\u001b[49m\u001b[38;5;241;43m=\u001b[39;49m\u001b[38;5;28;43mself\u001b[39;49m\u001b[38;5;241;43m.\u001b[39;49m\u001b[43mcompression\u001b[49m\u001b[43m,\u001b[49m\n\u001b[0;32m    247\u001b[0m \u001b[43m    \u001b[49m\u001b[43mstorage_options\u001b[49m\u001b[38;5;241;43m=\u001b[39;49m\u001b[38;5;28;43mself\u001b[39;49m\u001b[38;5;241;43m.\u001b[39;49m\u001b[43mstorage_options\u001b[49m\u001b[43m,\u001b[49m\n\u001b[0;32m    248\u001b[0m \u001b[43m\u001b[49m\u001b[43m)\u001b[49m \u001b[38;5;28;01mas\u001b[39;00m handles:\n\u001b[0;32m    249\u001b[0m \n\u001b[0;32m    250\u001b[0m     \u001b[38;5;66;03m# Note: self.encoding is irrelevant here\u001b[39;00m\n\u001b[0;32m    251\u001b[0m     \u001b[38;5;28mself\u001b[39m\u001b[38;5;241m.\u001b[39mwriter \u001b[38;5;241m=\u001b[39m csvlib\u001b[38;5;241m.\u001b[39mwriter(\n\u001b[0;32m    252\u001b[0m         handles\u001b[38;5;241m.\u001b[39mhandle,\n\u001b[0;32m    253\u001b[0m         lineterminator\u001b[38;5;241m=\u001b[39m\u001b[38;5;28mself\u001b[39m\u001b[38;5;241m.\u001b[39mline_terminator,\n\u001b[1;32m   (...)\u001b[0m\n\u001b[0;32m    258\u001b[0m         quotechar\u001b[38;5;241m=\u001b[39m\u001b[38;5;28mself\u001b[39m\u001b[38;5;241m.\u001b[39mquotechar,\n\u001b[0;32m    259\u001b[0m     )\n\u001b[0;32m    261\u001b[0m     \u001b[38;5;28mself\u001b[39m\u001b[38;5;241m.\u001b[39m_save()\n",
      "File \u001b[1;32m~\\AppData\\Local\\Programs\\Python\\Python310\\lib\\site-packages\\pandas\\io\\common.py:789\u001b[0m, in \u001b[0;36mget_handle\u001b[1;34m(path_or_buf, mode, encoding, compression, memory_map, is_text, errors, storage_options)\u001b[0m\n\u001b[0;32m    784\u001b[0m \u001b[38;5;28;01melif\u001b[39;00m \u001b[38;5;28misinstance\u001b[39m(handle, \u001b[38;5;28mstr\u001b[39m):\n\u001b[0;32m    785\u001b[0m     \u001b[38;5;66;03m# Check whether the filename is to be opened in binary mode.\u001b[39;00m\n\u001b[0;32m    786\u001b[0m     \u001b[38;5;66;03m# Binary mode does not support 'encoding' and 'newline'.\u001b[39;00m\n\u001b[0;32m    787\u001b[0m     \u001b[38;5;28;01mif\u001b[39;00m ioargs\u001b[38;5;241m.\u001b[39mencoding \u001b[38;5;129;01mand\u001b[39;00m \u001b[38;5;124m\"\u001b[39m\u001b[38;5;124mb\u001b[39m\u001b[38;5;124m\"\u001b[39m \u001b[38;5;129;01mnot\u001b[39;00m \u001b[38;5;129;01min\u001b[39;00m ioargs\u001b[38;5;241m.\u001b[39mmode:\n\u001b[0;32m    788\u001b[0m         \u001b[38;5;66;03m# Encoding\u001b[39;00m\n\u001b[1;32m--> 789\u001b[0m         handle \u001b[38;5;241m=\u001b[39m \u001b[38;5;28;43mopen\u001b[39;49m\u001b[43m(\u001b[49m\n\u001b[0;32m    790\u001b[0m \u001b[43m            \u001b[49m\u001b[43mhandle\u001b[49m\u001b[43m,\u001b[49m\n\u001b[0;32m    791\u001b[0m \u001b[43m            \u001b[49m\u001b[43mioargs\u001b[49m\u001b[38;5;241;43m.\u001b[39;49m\u001b[43mmode\u001b[49m\u001b[43m,\u001b[49m\n\u001b[0;32m    792\u001b[0m \u001b[43m            \u001b[49m\u001b[43mencoding\u001b[49m\u001b[38;5;241;43m=\u001b[39;49m\u001b[43mioargs\u001b[49m\u001b[38;5;241;43m.\u001b[39;49m\u001b[43mencoding\u001b[49m\u001b[43m,\u001b[49m\n\u001b[0;32m    793\u001b[0m \u001b[43m            \u001b[49m\u001b[43merrors\u001b[49m\u001b[38;5;241;43m=\u001b[39;49m\u001b[43merrors\u001b[49m\u001b[43m,\u001b[49m\n\u001b[0;32m    794\u001b[0m \u001b[43m            \u001b[49m\u001b[43mnewline\u001b[49m\u001b[38;5;241;43m=\u001b[39;49m\u001b[38;5;124;43m\"\u001b[39;49m\u001b[38;5;124;43m\"\u001b[39;49m\u001b[43m,\u001b[49m\n\u001b[0;32m    795\u001b[0m \u001b[43m        \u001b[49m\u001b[43m)\u001b[49m\n\u001b[0;32m    796\u001b[0m     \u001b[38;5;28;01melse\u001b[39;00m:\n\u001b[0;32m    797\u001b[0m         \u001b[38;5;66;03m# Binary mode\u001b[39;00m\n\u001b[0;32m    798\u001b[0m         handle \u001b[38;5;241m=\u001b[39m \u001b[38;5;28mopen\u001b[39m(handle, ioargs\u001b[38;5;241m.\u001b[39mmode)\n",
      "\u001b[1;31mPermissionError\u001b[0m: [Errno 13] Permission denied: 'C:\\\\Academic Projects\\\\Sales ETL Project'"
     ]
    }
   ],
   "source": [
    "Sales_dataframe.to_csv(current_directory)"
   ]
  },
  {
   "cell_type": "code",
   "execution_count": null,
   "id": "cbd47a93",
   "metadata": {},
   "outputs": [],
   "source": []
  }
 ],
 "metadata": {
  "kernelspec": {
   "display_name": "Python 3 (ipykernel)",
   "language": "python",
   "name": "python3"
  },
  "language_info": {
   "codemirror_mode": {
    "name": "ipython",
    "version": 3
   },
   "file_extension": ".py",
   "mimetype": "text/x-python",
   "name": "python",
   "nbconvert_exporter": "python",
   "pygments_lexer": "ipython3",
   "version": "3.10.2"
  }
 },
 "nbformat": 4,
 "nbformat_minor": 5
}
