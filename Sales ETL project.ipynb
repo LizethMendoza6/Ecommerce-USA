{
 "cells": [
  {
   "cell_type": "code",
   "execution_count": 16,
   "id": "c60c5a08",
   "metadata": {},
   "outputs": [],
   "source": [
    "import pandas as pd\n",
    "import requests"
   ]
  },
  {
   "cell_type": "markdown",
   "id": "856d7aa0",
   "metadata": {},
   "source": [
    "# ECOMMERCE ANALYSIS"
   ]
  },
  {
   "cell_type": "markdown",
   "id": "886b8156",
   "metadata": {},
   "source": [
    "# EXTRACTION"
   ]
  },
  {
   "cell_type": "code",
   "execution_count": 17,
   "id": "f609c251",
   "metadata": {},
   "outputs": [],
   "source": [
    "urlEcommerce_DataSource = 'https://62892c727af826e39e69681c.mockapi.io/api/SalesETL/Products'\n",
    "csvEcommerce__DataSource = pd.read_csv('C:/Academic Projects/Sales ETL Project/sales_products.csv')"
   ]
  },
  {
   "cell_type": "code",
   "execution_count": 18,
   "id": "17426e61",
   "metadata": {},
   "outputs": [
    {
     "name": "stdout",
     "output_type": "stream",
     "text": [
      "Ok\n"
     ]
    }
   ],
   "source": [
    "response = requests.get(urlEcommerce_DataSource)\n",
    "if(response.status_code==200):\n",
    "    print('Ok')\n",
    "else: \n",
    "    print('Error')"
   ]
  },
  {
   "cell_type": "markdown",
   "id": "ec473bb1",
   "metadata": {},
   "source": [
    "### Creating dataframes"
   ]
  },
  {
   "cell_type": "code",
   "execution_count": 19,
   "id": "199fb12e",
   "metadata": {},
   "outputs": [],
   "source": [
    "url_dataframe = pd.DataFrame(response.json())\n",
    "csv_dataframe = csvEcommerce__DataSource"
   ]
  },
  {
   "cell_type": "code",
   "execution_count": 20,
   "id": "c8713277",
   "metadata": {},
   "outputs": [
    {
     "data": {
      "text/html": [
       "<div>\n",
       "<style scoped>\n",
       "    .dataframe tbody tr th:only-of-type {\n",
       "        vertical-align: middle;\n",
       "    }\n",
       "\n",
       "    .dataframe tbody tr th {\n",
       "        vertical-align: top;\n",
       "    }\n",
       "\n",
       "    .dataframe thead th {\n",
       "        text-align: right;\n",
       "    }\n",
       "</style>\n",
       "<table border=\"1\" class=\"dataframe\">\n",
       "  <thead>\n",
       "    <tr style=\"text-align: right;\">\n",
       "      <th></th>\n",
       "      <th>name</th>\n",
       "      <th>price</th>\n",
       "      <th>description</th>\n",
       "      <th>date</th>\n",
       "      <th>id</th>\n",
       "      <th>brand</th>\n",
       "      <th>nombre</th>\n",
       "      <th>NAME</th>\n",
       "    </tr>\n",
       "  </thead>\n",
       "  <tbody>\n",
       "    <tr>\n",
       "      <th>0</th>\n",
       "      <td>Handcrafted Bronze Car</td>\n",
       "      <td>837.00</td>\n",
       "      <td>New range of formal shirts are designed keepin...</td>\n",
       "      <td>2022-05-22T16:33:56.666Z</td>\n",
       "      <td>1</td>\n",
       "      <td>NaN</td>\n",
       "      <td>NaN</td>\n",
       "      <td>NaN</td>\n",
       "    </tr>\n",
       "    <tr>\n",
       "      <th>1</th>\n",
       "      <td>Recycled Fresh Ball</td>\n",
       "      <td>906.00</td>\n",
       "      <td>The Football Is Good For Training And Recreati...</td>\n",
       "      <td>2022-05-21T22:35:17.730Z</td>\n",
       "      <td>2</td>\n",
       "      <td>NaN</td>\n",
       "      <td>NaN</td>\n",
       "      <td>NaN</td>\n",
       "    </tr>\n",
       "    <tr>\n",
       "      <th>2</th>\n",
       "      <td>Recycled Rubber Bike</td>\n",
       "      <td>547.00</td>\n",
       "      <td>The automobile layout consists of a front-engi...</td>\n",
       "      <td>2022-05-22T06:55:55.364Z</td>\n",
       "      <td>3</td>\n",
       "      <td>NaN</td>\n",
       "      <td>NaN</td>\n",
       "      <td>NaN</td>\n",
       "    </tr>\n",
       "    <tr>\n",
       "      <th>3</th>\n",
       "      <td>Rustic Wooden Computer</td>\n",
       "      <td>129.00</td>\n",
       "      <td>The Football Is Good For Training And Recreati...</td>\n",
       "      <td>2022-05-22T01:18:21.524Z</td>\n",
       "      <td>4</td>\n",
       "      <td>NaN</td>\n",
       "      <td>NaN</td>\n",
       "      <td>NaN</td>\n",
       "    </tr>\n",
       "    <tr>\n",
       "      <th>4</th>\n",
       "      <td>Sleek Wooden Chicken</td>\n",
       "      <td>58.00</td>\n",
       "      <td>Carbonite web goalkeeper gloves are ergonomica...</td>\n",
       "      <td>2022-05-22T18:38:39.850Z</td>\n",
       "      <td>5</td>\n",
       "      <td>NaN</td>\n",
       "      <td>NaN</td>\n",
       "      <td>NaN</td>\n",
       "    </tr>\n",
       "  </tbody>\n",
       "</table>\n",
       "</div>"
      ],
      "text/plain": [
       "                     name   price  \\\n",
       "0  Handcrafted Bronze Car  837.00   \n",
       "1     Recycled Fresh Ball  906.00   \n",
       "2    Recycled Rubber Bike  547.00   \n",
       "3  Rustic Wooden Computer  129.00   \n",
       "4    Sleek Wooden Chicken   58.00   \n",
       "\n",
       "                                         description  \\\n",
       "0  New range of formal shirts are designed keepin...   \n",
       "1  The Football Is Good For Training And Recreati...   \n",
       "2  The automobile layout consists of a front-engi...   \n",
       "3  The Football Is Good For Training And Recreati...   \n",
       "4  Carbonite web goalkeeper gloves are ergonomica...   \n",
       "\n",
       "                       date id brand nombre NAME  \n",
       "0  2022-05-22T16:33:56.666Z  1   NaN    NaN  NaN  \n",
       "1  2022-05-21T22:35:17.730Z  2   NaN    NaN  NaN  \n",
       "2  2022-05-22T06:55:55.364Z  3   NaN    NaN  NaN  \n",
       "3  2022-05-22T01:18:21.524Z  4   NaN    NaN  NaN  \n",
       "4  2022-05-22T18:38:39.850Z  5   NaN    NaN  NaN  "
      ]
     },
     "execution_count": 20,
     "metadata": {},
     "output_type": "execute_result"
    }
   ],
   "source": [
    "url_dataframe.head()"
   ]
  },
  {
   "cell_type": "code",
   "execution_count": 21,
   "id": "bb793135",
   "metadata": {},
   "outputs": [
    {
     "data": {
      "text/html": [
       "<div>\n",
       "<style scoped>\n",
       "    .dataframe tbody tr th:only-of-type {\n",
       "        vertical-align: middle;\n",
       "    }\n",
       "\n",
       "    .dataframe tbody tr th {\n",
       "        vertical-align: top;\n",
       "    }\n",
       "\n",
       "    .dataframe thead th {\n",
       "        text-align: right;\n",
       "    }\n",
       "</style>\n",
       "<table border=\"1\" class=\"dataframe\">\n",
       "  <thead>\n",
       "    <tr style=\"text-align: right;\">\n",
       "      <th></th>\n",
       "      <th>name</th>\n",
       "      <th>price</th>\n",
       "      <th>description</th>\n",
       "      <th>date</th>\n",
       "      <th>id</th>\n",
       "    </tr>\n",
       "  </thead>\n",
       "  <tbody>\n",
       "    <tr>\n",
       "      <th>0</th>\n",
       "      <td>Bacon</td>\n",
       "      <td>166.0</td>\n",
       "      <td>The Nagasaki Lander is the trademarked name of...</td>\n",
       "      <td>2021-10-26T19:00:24.925Z</td>\n",
       "      <td>1</td>\n",
       "    </tr>\n",
       "    <tr>\n",
       "      <th>1</th>\n",
       "      <td>Bike</td>\n",
       "      <td>19.0</td>\n",
       "      <td>Ergonomic executive chair upholstered in bonde...</td>\n",
       "      <td>2021-10-03T18:02:12.519Z</td>\n",
       "      <td>2</td>\n",
       "    </tr>\n",
       "    <tr>\n",
       "      <th>2</th>\n",
       "      <td>Towels</td>\n",
       "      <td>216.0</td>\n",
       "      <td>The slim &amp; simple Maple Gaming Keyboard from D...</td>\n",
       "      <td>2022-03-02T21:42:06.848Z</td>\n",
       "      <td>3</td>\n",
       "    </tr>\n",
       "    <tr>\n",
       "      <th>3</th>\n",
       "      <td>Hat</td>\n",
       "      <td>464.0</td>\n",
       "      <td>The Nagasaki Lander is the trademarked name of...</td>\n",
       "      <td>2022-05-20T11:46:17.171Z</td>\n",
       "      <td>4</td>\n",
       "    </tr>\n",
       "    <tr>\n",
       "      <th>4</th>\n",
       "      <td>Keyboard</td>\n",
       "      <td>819.0</td>\n",
       "      <td>New ABC 13 9370, 13.3, 5th Gen CoreA5-8250U, 8...</td>\n",
       "      <td>2021-09-02T04:01:05.365Z</td>\n",
       "      <td>5</td>\n",
       "    </tr>\n",
       "  </tbody>\n",
       "</table>\n",
       "</div>"
      ],
      "text/plain": [
       "       name  price                                        description  \\\n",
       "0     Bacon  166.0  The Nagasaki Lander is the trademarked name of...   \n",
       "1      Bike   19.0  Ergonomic executive chair upholstered in bonde...   \n",
       "2    Towels  216.0  The slim & simple Maple Gaming Keyboard from D...   \n",
       "3       Hat  464.0  The Nagasaki Lander is the trademarked name of...   \n",
       "4  Keyboard  819.0  New ABC 13 9370, 13.3, 5th Gen CoreA5-8250U, 8...   \n",
       "\n",
       "                       date  id  \n",
       "0  2021-10-26T19:00:24.925Z   1  \n",
       "1  2021-10-03T18:02:12.519Z   2  \n",
       "2  2022-03-02T21:42:06.848Z   3  \n",
       "3  2022-05-20T11:46:17.171Z   4  \n",
       "4  2021-09-02T04:01:05.365Z   5  "
      ]
     },
     "execution_count": 21,
     "metadata": {},
     "output_type": "execute_result"
    }
   ],
   "source": [
    "csv_dataframe.head()"
   ]
  },
  {
   "cell_type": "markdown",
   "id": "cf44b7bd",
   "metadata": {},
   "source": [
    "### Ordering columns"
   ]
  },
  {
   "cell_type": "code",
   "execution_count": 22,
   "id": "f4523ea8",
   "metadata": {},
   "outputs": [],
   "source": [
    "default_column_order = ['id', 'name', 'nombre', 'NAME', 'description', 'price', 'date', 'brand']\n",
    "url_dataframe = url_dataframe.reindex(columns= default_column_order)"
   ]
  },
  {
   "cell_type": "code",
   "execution_count": 23,
   "id": "3a0b509e",
   "metadata": {},
   "outputs": [],
   "source": [
    "default_column_order = ['id', 'name', 'description', 'price', 'date']\n",
    "csv_dataframe = csv_dataframe.reindex(columns= default_column_order)"
   ]
  },
  {
   "cell_type": "markdown",
   "id": "678c6183",
   "metadata": {},
   "source": [
    "### Concatenating Dataframes"
   ]
  },
  {
   "cell_type": "code",
   "execution_count": 24,
   "id": "64091f3c",
   "metadata": {
    "scrolled": false
   },
   "outputs": [
    {
     "name": "stdout",
     "output_type": "stream",
     "text": [
      "url_dataframe rows & columns:(62, 8)\n",
      "csv_dataframe rows & columns:(10, 5)\n",
      "Ecommerce_dataframe rows & columns:(72, 8)\n"
     ]
    },
    {
     "data": {
      "text/html": [
       "<div>\n",
       "<style scoped>\n",
       "    .dataframe tbody tr th:only-of-type {\n",
       "        vertical-align: middle;\n",
       "    }\n",
       "\n",
       "    .dataframe tbody tr th {\n",
       "        vertical-align: top;\n",
       "    }\n",
       "\n",
       "    .dataframe thead th {\n",
       "        text-align: right;\n",
       "    }\n",
       "</style>\n",
       "<table border=\"1\" class=\"dataframe\">\n",
       "  <thead>\n",
       "    <tr style=\"text-align: right;\">\n",
       "      <th></th>\n",
       "      <th>id</th>\n",
       "      <th>name</th>\n",
       "      <th>nombre</th>\n",
       "      <th>NAME</th>\n",
       "      <th>description</th>\n",
       "      <th>price</th>\n",
       "      <th>date</th>\n",
       "      <th>brand</th>\n",
       "    </tr>\n",
       "  </thead>\n",
       "  <tbody>\n",
       "    <tr>\n",
       "      <th>71</th>\n",
       "      <td>10</td>\n",
       "      <td>Bike</td>\n",
       "      <td>NaN</td>\n",
       "      <td>NaN</td>\n",
       "      <td>The Football Is Good For Training And Recreati...</td>\n",
       "      <td>504.0</td>\n",
       "      <td>2021-11-17T05:18:05.217Z</td>\n",
       "      <td>NaN</td>\n",
       "    </tr>\n",
       "  </tbody>\n",
       "</table>\n",
       "</div>"
      ],
      "text/plain": [
       "    id  name nombre NAME                                        description  \\\n",
       "71  10  Bike    NaN  NaN  The Football Is Good For Training And Recreati...   \n",
       "\n",
       "    price                      date brand  \n",
       "71  504.0  2021-11-17T05:18:05.217Z   NaN  "
      ]
     },
     "execution_count": 24,
     "metadata": {},
     "output_type": "execute_result"
    }
   ],
   "source": [
    "Ecommerce_dataframe = pd.concat([url_dataframe, csv_dataframe],ignore_index=True)\n",
    "print('url_dataframe rows & columns:' + str(url_dataframe.shape))\n",
    "print('csv_dataframe rows & columns:' + str(csv_dataframe.shape))\n",
    "print('Ecommerce_dataframe rows & columns:' + str(Ecommerce_dataframe.shape))\n",
    "Ecommerce_dataframe.tail(1)"
   ]
  },
  {
   "cell_type": "markdown",
   "id": "f91387d5",
   "metadata": {},
   "source": [
    "#  TRANSFORM"
   ]
  },
  {
   "cell_type": "markdown",
   "id": "4adea42e",
   "metadata": {},
   "source": [
    "## Removing Unnecessary Columns"
   ]
  },
  {
   "cell_type": "code",
   "execution_count": null,
   "id": "b8acd16d",
   "metadata": {},
   "outputs": [],
   "source": []
  }
 ],
 "metadata": {
  "kernelspec": {
   "display_name": "Python 3 (ipykernel)",
   "language": "python",
   "name": "python3"
  },
  "language_info": {
   "codemirror_mode": {
    "name": "ipython",
    "version": 3
   },
   "file_extension": ".py",
   "mimetype": "text/x-python",
   "name": "python",
   "nbconvert_exporter": "python",
   "pygments_lexer": "ipython3",
   "version": "3.10.2"
  }
 },
 "nbformat": 4,
 "nbformat_minor": 5
}
